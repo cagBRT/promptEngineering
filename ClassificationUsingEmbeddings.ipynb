{
  "nbformat": 4,
  "nbformat_minor": 0,
  "metadata": {
    "colab": {
      "private_outputs": true,
      "provenance": [],
      "authorship_tag": "ABX9TyOqgTdMZqsiekPBEeCBs5q8",
      "include_colab_link": true
    },
    "kernelspec": {
      "name": "python3",
      "display_name": "Python 3"
    },
    "language_info": {
      "name": "python"
    }
  },
  "cells": [
    {
      "cell_type": "markdown",
      "metadata": {
        "id": "view-in-github",
        "colab_type": "text"
      },
      "source": [
        "<a href=\"https://colab.research.google.com/github/cagBRT/promptEngineering/blob/main/ClassificationUsingEmbeddings.ipynb\" target=\"_parent\"><img src=\"https://colab.research.google.com/assets/colab-badge.svg\" alt=\"Open In Colab\"/></a>"
      ]
    },
    {
      "cell_type": "markdown",
      "source": [
        "download the data from [here](https://github.com/openai/openai-cookbook/blob/main/examples/data/fine_food_reviews_with_embeddings_1k.csv)"
      ],
      "metadata": {
        "id": "LXsmj-MgFqE5"
      }
    },
    {
      "cell_type": "markdown",
      "source": [
        "then upload to the local data directory"
      ],
      "metadata": {
        "id": "2NSOQTR_FxSL"
      }
    },
    {
      "cell_type": "code",
      "source": [
        "!pip install --upgrade openai\n",
        "\n",
        "import os\n",
        "import openai"
      ],
      "metadata": {
        "id": "Wul6638uGK3A"
      },
      "execution_count": null,
      "outputs": []
    },
    {
      "cell_type": "code",
      "source": [
        "# imports\n",
        "import pandas as pd\n",
        "import numpy as np\n",
        "\n",
        "from sklearn.ensemble import RandomForestClassifier\n",
        "from sklearn.model_selection import train_test_split\n",
        "from sklearn.metrics import classification_report, accuracy_score\n",
        "\n",
        "# load data\n",
        "datafile_path = \"/content/fine_food_reviews_with_embeddings_1k.csv\"\n",
        "df = pd.read_csv(datafile_path, on_bad_lines=\"skip\", engine='python')\n",
        "#Used engine parameter because of EOF in middle of line"
      ],
      "metadata": {
        "id": "xrPNqSkB8QWV"
      },
      "execution_count": null,
      "outputs": []
    },
    {
      "cell_type": "code",
      "source": [
        "df.columns"
      ],
      "metadata": {
        "id": "kSxPA3fEEBvN"
      },
      "execution_count": null,
      "outputs": []
    },
    {
      "cell_type": "code",
      "source": [
        "df.head()"
      ],
      "metadata": {
        "id": "kUlDvyRrFGbL"
      },
      "execution_count": null,
      "outputs": []
    },
    {
      "cell_type": "code",
      "source": [
        "df[\"embedding\"] = df.embedding.apply(eval).apply(np.array)  # convert string to array"
      ],
      "metadata": {
        "id": "_JHL_q2l91Lm"
      },
      "execution_count": null,
      "outputs": []
    },
    {
      "cell_type": "code",
      "source": [
        "# split data into train and test\n",
        "X_train, X_test, y_train, y_test = train_test_split(\n",
        "    list(df.embedding.values), df.Score, test_size=0.2, random_state=42\n",
        ")"
      ],
      "metadata": {
        "id": "VTfIAHutFPR4"
      },
      "execution_count": null,
      "outputs": []
    },
    {
      "cell_type": "code",
      "source": [
        "# train random forest classifier\n",
        "clf = RandomForestClassifier(n_estimators=100)\n",
        "clf.fit(X_train, y_train)\n",
        "preds = clf.predict(X_test)\n",
        "probas = clf.predict_proba(X_test)"
      ],
      "metadata": {
        "id": "Fiv7jp49FSC-"
      },
      "execution_count": null,
      "outputs": []
    },
    {
      "cell_type": "code",
      "execution_count": null,
      "metadata": {
        "id": "tzhB4xo768CC"
      },
      "outputs": [],
      "source": [
        "report = classification_report(y_test, preds)\n",
        "print(report)\n"
      ]
    },
    {
      "cell_type": "code",
      "source": [
        "from openai.embeddings_utils import plot_multiclass_precision_recall\n",
        "\n",
        "plot_multiclass_precision_recall(probas, y_test, [1, 2, 3, 4, 5], clf)"
      ],
      "metadata": {
        "id": "HCbeXBX8F9nD"
      },
      "execution_count": null,
      "outputs": []
    }
  ]
}