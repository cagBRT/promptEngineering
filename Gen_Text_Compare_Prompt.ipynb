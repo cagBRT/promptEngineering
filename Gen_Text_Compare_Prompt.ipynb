{
  "nbformat": 4,
  "nbformat_minor": 0,
  "metadata": {
    "colab": {
      "private_outputs": true,
      "provenance": [],
      "gpuType": "T4",
      "authorship_tag": "ABX9TyPxmhM/y/3TMlRRbOPtGO61",
      "include_colab_link": true
    },
    "kernelspec": {
      "name": "python3",
      "display_name": "Python 3"
    },
    "language_info": {
      "name": "python"
    },
    "accelerator": "GPU"
  },
  "cells": [
    {
      "cell_type": "markdown",
      "metadata": {
        "id": "view-in-github",
        "colab_type": "text"
      },
      "source": [
        "<a href=\"https://colab.research.google.com/github/cagBRT/promptEngineering/blob/main/Gen_Text_Compare_Prompt.ipynb\" target=\"_parent\"><img src=\"https://colab.research.google.com/assets/colab-badge.svg\" alt=\"Open In Colab\"/></a>"
      ]
    },
    {
      "cell_type": "markdown",
      "source": [
        "In this notebook the user gives three different language models the same text sequence and asks for the models to complete the text. <br>\n",
        "\n",
        "A comparison of the completed text from the models is interesting and can lead to a better understanding of each model. <br>\n",
        "\n",
        "The assignment asks the student to change the text for padding, then rerun the models and see the change in the completed text."
      ],
      "metadata": {
        "id": "Yse4iXLv0HmU"
      }
    },
    {
      "cell_type": "code",
      "source": [
        "!git clone https://github.com/huggingface/pytorch-transformers.git"
      ],
      "metadata": {
        "id": "UZCEIywKk6Qo"
      },
      "execution_count": null,
      "outputs": []
    },
    {
      "cell_type": "code",
      "source": [
        "! pip install transformers"
      ],
      "metadata": {
        "id": "zcReapPljYLs"
      },
      "execution_count": null,
      "outputs": []
    },
    {
      "cell_type": "code",
      "source": [
        "!pip install pytorch-transformers"
      ],
      "metadata": {
        "id": "lxOTMChgjq5O"
      },
      "execution_count": null,
      "outputs": []
    },
    {
      "cell_type": "code",
      "source": [
        "!pip install sacremoses"
      ],
      "metadata": {
        "id": "rfIDhZJI_Xok"
      },
      "execution_count": null,
      "outputs": []
    },
    {
      "cell_type": "code",
      "source": [
        "!pip install einops"
      ],
      "metadata": {
        "id": "igFbpcOEHRgi"
      },
      "execution_count": null,
      "outputs": []
    },
    {
      "cell_type": "code",
      "source": [
        "# Import required libraries\n",
        "import torch\n",
        "from pytorch_transformers import GPT2Tokenizer, GPT2LMHeadModel\n",
        "from transformers import pipeline\n",
        "from transformers import AutoTokenizer, AutoModelWithLMHead"
      ],
      "metadata": {
        "id": "HoGiRb9jkFwr"
      },
      "execution_count": null,
      "outputs": []
    },
    {
      "cell_type": "markdown",
      "source": [
        "\n",
        "\n",
        "---\n",
        "\n",
        "\n",
        "\n",
        "---\n",
        "\n"
      ],
      "metadata": {
        "id": "q19qUpIQuhL-"
      }
    },
    {
      "cell_type": "markdown",
      "source": [
        "In this section, we copy and paste the same text into three different models. <br>\n",
        "Compare the outputs and the length of time for each model"
      ],
      "metadata": {
        "id": "N_aPzOHbt0W8"
      }
    },
    {
      "cell_type": "markdown",
      "source": [
        "# Complete the text:<br>\n",
        "**Copy and paste the following text into the model prompt**<br>\n",
        "The unicorns had seemed to know each other almost as well as they did common humans. The study was published in Science Translational Medicine on May 6. What's more, researchers found that five percent of the unicorns recognized each other well. The study team thinks this might translate into a future where humans would be able to communicate more clearly with those known as super Unicorns. And if we're going to move ahead with that future, we've got to do it at least a"
      ],
      "metadata": {
        "id": "rgotMIsklEZJ"
      }
    },
    {
      "cell_type": "markdown",
      "source": [
        "\n",
        "\n",
        "---\n",
        "\n"
      ],
      "metadata": {
        "id": "R2XPXXAo4UKo"
      }
    },
    {
      "cell_type": "markdown",
      "source": [
        "**GPT-2**"
      ],
      "metadata": {
        "id": "C1uSgtt3Clmr"
      }
    },
    {
      "cell_type": "code",
      "source": [
        "!python /content/pytorch-transformers/examples/pytorch/text-generation/run_generation.py \\\n",
        "        --model_type=gpt2 --length=100 --model_name_or_path=gpt2"
      ],
      "metadata": {
        "id": "Tdt53Wtjk4pP"
      },
      "execution_count": null,
      "outputs": []
    },
    {
      "cell_type": "markdown",
      "source": [
        "# Sample of Completed text from GPT2\n",
        "little faster than when unicorns first entered human speech.<br>\n",
        "\n",
        "This is nice news to hear.<br>\n",
        "\n",
        "What do you think about Devesque's research? Is it worth it? Tell us what you think in the comments below or tweet @TheCultula_.<|endoftext|>"
      ],
      "metadata": {
        "id": "03nKEcy-n_jX"
      }
    },
    {
      "cell_type": "markdown",
      "source": [
        "\n",
        "\n",
        "---\n",
        "\n",
        "\n",
        "\n",
        "---\n",
        "\n"
      ],
      "metadata": {
        "id": "5ULALoPOozRG"
      }
    },
    {
      "cell_type": "markdown",
      "source": [
        "# Sample of Completed text from XLNet"
      ],
      "metadata": {
        "id": "Y246FAGknPP8"
      }
    },
    {
      "cell_type": "code",
      "source": [
        "!python /content/pytorch-transformers/examples/pytorch/text-generation/run_generation.py  \\\n",
        "    --model_type=xlnet \\\n",
        "    --length=100 \\\n",
        "    --model_name_or_path=xlnet-base-cased"
      ],
      "metadata": {
        "id": "I0oLwxASmzAv"
      },
      "execution_count": null,
      "outputs": []
    },
    {
      "cell_type": "markdown",
      "source": [
        "bit first.<eop> August 26, 2017In Singapore, the White Party spent the second day on their frontline road. The White Party, preferably the White House, spent the first day in a military parking garage in North Galleria, Washington, a two-day military \"preview session.\" The Democratic Party of Russia, representing the coalition with the White House, spent the first day in a military parking garage, a parking yard in East North Galleria, a parking garage in North\n"
      ],
      "metadata": {
        "id": "tG1umn7coXaH"
      }
    },
    {
      "cell_type": "markdown",
      "source": [
        "\n",
        "\n",
        "---\n",
        "\n",
        "\n",
        "\n",
        "---\n",
        "\n"
      ],
      "metadata": {
        "id": "Gn_gS4RWsEXG"
      }
    },
    {
      "cell_type": "markdown",
      "source": [
        "# Sample of Completed text from transformer-XL"
      ],
      "metadata": {
        "id": "fEDDkiQ2sFL-"
      }
    },
    {
      "cell_type": "markdown",
      "source": [
        "You'll see a message about model variables, for now we can ignore them. <br>\n",
        "**You'll have to be patient for the text completion - this can take a few minutes.**"
      ],
      "metadata": {
        "id": "t34BUidQuBkV"
      }
    },
    {
      "cell_type": "code",
      "source": [
        "!python /content/pytorch-transformers/examples/pytorch/text-generation/run_generation.py  \\\n",
        "    --model_type=transfo-xl \\\n",
        "    --length=100 \\\n",
        "    --model_name_or_path=transfo-xl-wt103"
      ],
      "metadata": {
        "id": "HDu7bE_Npa_B"
      },
      "execution_count": null,
      "outputs": []
    },
    {
      "cell_type": "markdown",
      "source": [
        "# Text Completed by transformer-XL\n",
        "dozen times. For example, if you lose your head or your body, then you can't fight as a horse or lead a more manly life. There's always a chance of something changing. Today, we're going to do it every day, and that's exactly where you want to go. The knight is going to stop hunting, and he's going to allow a unicorn to come down. The knight will be so beautiful that he'll start stalking you until you've killed him. <eos>"
      ],
      "metadata": {
        "id": "VHGMxA57p3Bu"
      }
    },
    {
      "cell_type": "markdown",
      "source": [
        "\n",
        "\n",
        "---\n",
        "\n",
        "\n",
        "\n",
        "---\n",
        "\n"
      ],
      "metadata": {
        "id": "pmFfqMNH0Xj0"
      }
    },
    {
      "cell_type": "markdown",
      "source": [
        "**Padding Text**\n",
        "If the prompt is short, padding text is added to it.\n",
        "The padding text right now is:\n",
        "\n",
        "Padding text to help Transformer-XL and XLNet with short prompts as proposed by Aman Rusia\n",
        "\n",
        "PREFIX = \"\"\"In 1991, the remains of Russian Tsar Nicholas II and his family\n",
        "(except for Alexei and Maria) are discovered.\n",
        "The voice of Nicholas's young son, Tsarevich Alexei Nikolaevich, narrates the\n",
        "remainder of the story. 1883 Western Siberia,\n",
        "a young Grigori Rasputin is asked by his father and a group of men to perform magic.\n",
        "Rasputin has a vision and denounces one of the men as a horse thief. Although his\n",
        "father initially slaps him for making such an accusation, Rasputin watches as the\n",
        "man is chased outside and beaten. Twenty years later, Rasputin sees a vision of\n",
        "the Virgin Mary, prompting him to become a priest. Rasputin quickly becomes famous,\n",
        "with people, even a bishop, begging for his blessing. <eod> </s> <eos>\"\"\"\n",
        "\n",
        "\n",
        "\n",
        "/content/pytorch-transformers/examples/pytorch/text-generation/run_generation.py\n"
      ],
      "metadata": {
        "id": "8AAqeI9MXzUa"
      }
    },
    {
      "cell_type": "markdown",
      "source": [
        "**Assignment**<br>\n",
        "1. Go to the file: /content/pytorch-transformers/examples/pytorch/text-generation/run_generation.py<br>\n",
        "(you can get to it by clicking on the link)\n",
        "\n",
        "2. Scroll down until you get to line 79.\n",
        "It should begin as PREFIX = \"\"\" text-for-padding \"\"\"\n",
        "\n",
        "3. Change the text-for-padding. <br>\n",
        "Go on the internet and find some new text to replace the present text-for-padding. Save the file\n",
        "\n",
        "4.Rerun the three text generation models, how does the output text change?\n",
        "\n"
      ],
      "metadata": {
        "id": "6L0ht1HsrG1Z"
      }
    },
    {
      "cell_type": "markdown",
      "source": [
        "If you can't find any text to use for the assignment, you can use the text below. <br>\n",
        "\n",
        "Lorem ipsum dolor sit amet, consectetur adipiscing elit, sed do eiusmod tempor incididunt ut labore et dolore magna aliqua. Ut enim ad minim veniam, quis nostrud exercitation ullamco laboris nisi ut aliquip ex ea commodo consequat. Duis aute irure dolor in reprehenderit in voluptate velit esse cillum dolore eu fugiat nulla pariatur. Excepteur sint occaecat cupidatat non proident, sunt in culpa qui officia deserunt mollit anim id est laborum."
      ],
      "metadata": {
        "id": "gJgt4T_JaAPj"
      }
    }
  ]
}