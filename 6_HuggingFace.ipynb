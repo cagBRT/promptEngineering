{
  "nbformat": 4,
  "nbformat_minor": 0,
  "metadata": {
    "colab": {
      "private_outputs": true,
      "provenance": [],
      "authorship_tag": "ABX9TyM4jS69xtRKZRHBUR8tkPpB",
      "include_colab_link": true
    },
    "kernelspec": {
      "name": "python3",
      "display_name": "Python 3"
    },
    "language_info": {
      "name": "python"
    }
  },
  "cells": [
    {
      "cell_type": "markdown",
      "metadata": {
        "id": "view-in-github",
        "colab_type": "text"
      },
      "source": [
        "<a href=\"https://colab.research.google.com/github/cagBRT/promptEngineering/blob/main/6_HuggingFace.ipynb\" target=\"_parent\"><img src=\"https://colab.research.google.com/assets/colab-badge.svg\" alt=\"Open In Colab\"/></a>"
      ]
    },
    {
      "cell_type": "code",
      "source": [
        " !pip install sentencepiece"
      ],
      "metadata": {
        "id": "_DlELrWd9LyQ"
      },
      "execution_count": null,
      "outputs": []
    },
    {
      "cell_type": "code",
      "execution_count": null,
      "metadata": {
        "id": "mV0nrkoLpXvz"
      },
      "outputs": [],
      "source": [
        "! pip install transformers datasets\n",
        "# To install from source instead of the last release, comment the command above and uncomment the following one.\n",
        "! pip install git+https://github.com/huggingface/transformers.git"
      ]
    },
    {
      "cell_type": "markdown",
      "source": [
        "Multilingual models for inference\n",
        "There are several multilingual models in 🤗 Transformers, and their inference usage differs from monolingual models. Not all multilingual model usage is different though. Some models, like bert-base-multilingual-uncased, can be used just like a monolingual model. This guide will show you how to use multilingual models whose usage differs for inference.\n",
        "\n",
        "XLM\n",
        "XLM has ten different checkpoints, only one of which is monolingual. The nine remaining model checkpoints can be split into two categories: the checkpoints that use language embeddings and those that don't.\n",
        "\n",
        "XLM with language embeddings\n",
        "The following XLM models use language embeddings to specify the language used at inference:\n",
        "\n",
        "xlm-mlm-ende-1024 (Masked language modeling, English-German)\n",
        "xlm-mlm-enfr-1024 (Masked language modeling, English-French)\n",
        "xlm-mlm-enro-1024 (Masked language modeling, English-Romanian)\n",
        "xlm-mlm-xnli15-1024 (Masked language modeling, XNLI languages)\n",
        "xlm-mlm-tlm-xnli15-1024 (Masked language modeling + translation, XNLI languages)\n",
        "xlm-clm-enfr-1024 (Causal language modeling, English-French)\n",
        "xlm-clm-ende-1024 (Causal language modeling, English-German)\n",
        "Language embeddings are represented as a tensor of the same shape as the input_ids passed to the model. The values in these tensors depend on the language used and are identified by the tokenizer's lang2id and id2lang attributes.\n",
        "\n",
        "In this example, load the xlm-clm-enfr-1024 checkpoint (Causal language modeling, English-French):\n",
        "\n"
      ],
      "metadata": {
        "id": "LfY8l0qCpv5E"
      }
    },
    {
      "cell_type": "code",
      "source": [
        "!pip install sacremoses\n",
        "import torch\n",
        "from transformers import XLMTokenizer, XLMWithLMHeadModel\n",
        "\n",
        "tokenizer = XLMTokenizer.from_pretrained(\"xlm-clm-enfr-1024\")\n",
        "model = XLMWithLMHeadModel.from_pretrained(\"xlm-clm-enfr-1024\")"
      ],
      "metadata": {
        "id": "nGJEMXX2pwwQ"
      },
      "execution_count": null,
      "outputs": []
    },
    {
      "cell_type": "code",
      "source": [
        "print(tokenizer.lang2id)\n"
      ],
      "metadata": {
        "id": "8bLMCwsepznn"
      },
      "execution_count": null,
      "outputs": []
    },
    {
      "cell_type": "markdown",
      "source": [
        "Next, create an example input:\n",
        "\n"
      ],
      "metadata": {
        "id": "g5qfyLrCpyU2"
      }
    },
    {
      "cell_type": "code",
      "source": [
        "\n",
        "input_ids = torch.tensor([tokenizer.encode(\"Wikipedia was used to\")])  # batch size of 1"
      ],
      "metadata": {
        "id": "Dw8GzTl6p8B7"
      },
      "execution_count": null,
      "outputs": []
    },
    {
      "cell_type": "markdown",
      "source": [
        "Set the language id as \"en\" and use it to define the language embedding. The language embedding is a tensor filled with 0 since that is the language id for English. This tensor should be the same size as input_ids."
      ],
      "metadata": {
        "id": "-CwjVfGXqbpk"
      }
    },
    {
      "cell_type": "code",
      "source": [
        "language_id = tokenizer.lang2id[\"en\"]  # 0\n",
        "langs = torch.tensor([language_id] * input_ids.shape[1])  # torch.tensor([0, 0, 0, ..., 0])\n",
        "\n",
        "# We reshape it to be of size (batch_size, sequence_length)\n",
        "langs = langs.view(1, -1)  # is now of shape [1, sequence_length] (we have a batch size of 1)"
      ],
      "metadata": {
        "id": "CBp8hIeJqdrA"
      },
      "execution_count": null,
      "outputs": []
    },
    {
      "cell_type": "markdown",
      "source": [
        "Now you can pass the input_ids and language embedding to the model:"
      ],
      "metadata": {
        "id": "N4uY9l2gqfvl"
      }
    },
    {
      "cell_type": "code",
      "source": [
        "\n",
        "outputs = model(input_ids, langs=langs)"
      ],
      "metadata": {
        "id": "2fQVg-yvqhZk"
      },
      "execution_count": null,
      "outputs": []
    },
    {
      "cell_type": "markdown",
      "source": [
        "The run_generation.py script can generate text with language embeddings using the xlm-clm checkpoints.\n",
        "\n",
        "XLM without language embeddings\n",
        "The following XLM models do not require language embeddings during inference:\n",
        "\n",
        "xlm-mlm-17-1280 (Masked language modeling, 17 languages)\n",
        "xlm-mlm-100-1280 (Masked language modeling, 100 languages)\n",
        "These models are used for generic sentence representations, unlike the previous XLM checkpoints.\n",
        "\n",
        "BERT\n",
        "The following BERT models can be used for multilingual tasks:\n",
        "\n",
        "bert-base-multilingual-uncased (Masked language modeling + Next sentence prediction, 102 languages)\n",
        "bert-base-multilingual-cased (Masked language modeling + Next sentence prediction, 104 languages)\n",
        "These models do not require language embeddings during inference. They should identify the language from the context and infer accordingly.\n",
        "\n",
        "XLM-RoBERTa\n",
        "The following XLM-RoBERTa models can be used for multilingual tasks:\n",
        "\n",
        "xlm-roberta-base (Masked language modeling, 100 languages)\n",
        "xlm-roberta-large (Masked language modeling, 100 languages)\n",
        "XLM-RoBERTa was trained on 2.5TB of newly created and cleaned CommonCrawl data in 100 languages. It provides strong gains over previously released multilingual models like mBERT or XLM on downstream tasks like classification, sequence labeling, and question answering."
      ],
      "metadata": {
        "id": "bolYmCBEqk_U"
      }
    },
    {
      "cell_type": "markdown",
      "source": [
        "M2M100\n",
        "The following M2M100 models can be used for multilingual translation:\n",
        "\n",
        "facebook/m2m100_418M (Translation)\n",
        "facebook/m2m100_1.2B (Translation)\n",
        "In this example, load the facebook/m2m100_418M checkpoint to translate from Chinese to English. You can set the source language in the tokenizer:"
      ],
      "metadata": {
        "id": "IBS5mUojqnIA"
      }
    },
    {
      "cell_type": "code",
      "source": [
        "!pip install sentencepiece\n",
        "from transformers import M2M100ForConditionalGeneration, M2M100Tokenizer\n",
        "from transformers import M2M100Config, M2M100ForConditionalGeneration, M2M100Tokenizer\n",
        "\n",
        "en_text = \"Do not meddle in the affairs of wizards, for they are subtle and quick to anger.\"\n",
        "chinese_text = \"不要插手巫師的事務, 因為他們是微妙的, 很快就會發怒.\"\n"
      ],
      "metadata": {
        "id": "hAmzqDp_qpPe"
      },
      "execution_count": null,
      "outputs": []
    },
    {
      "cell_type": "code",
      "source": [
        "tokenizer = M2M100Tokenizer.from_pretrained(\"facebook/m2m100_418M\", src_lang=\"zh\")\n",
        "model = M2M100ForConditionalGeneration.from_pretrained(\"facebook/m2m100_418M\")"
      ],
      "metadata": {
        "id": "OnVi4SQ2HktE"
      },
      "execution_count": null,
      "outputs": []
    },
    {
      "cell_type": "code",
      "source": [
        "encoded_zh = tokenizer(chinese_text, return_tensors=\"pt\")"
      ],
      "metadata": {
        "id": "wYr5evTcNHJA"
      },
      "execution_count": null,
      "outputs": []
    },
    {
      "cell_type": "code",
      "source": [
        "generated_tokens = model.generate(**encoded_zh, forced_bos_token_id=tokenizer.get_lang_id(\"en\"))\n",
        "tokenizer.batch_decode(generated_tokens, skip_special_tokens=True)"
      ],
      "metadata": {
        "id": "iyUpjvP1NKZn"
      },
      "execution_count": null,
      "outputs": []
    },
    {
      "cell_type": "code",
      "source": [
        "source_text =  \"Hello, how are you?\"\n",
        "\n",
        "model_id = \"facebook/m2m100_418M\"\n",
        "\n",
        "model = M2M100ForConditionalGeneration.from_pretrained(model_id)\n",
        "tokenizer = M2M100Tokenizer.from_pretrained"
      ],
      "metadata": {
        "id": "doxDhm8Es-fc"
      },
      "execution_count": null,
      "outputs": []
    },
    {
      "cell_type": "code",
      "source": [
        "hi_text = \"जीवन एक चॉकलेट बॉक्स की तरह है।\"\n",
        "chinese_text = \"生活就像一盒巧克力。\"\n",
        "\n",
        "model = M2M100ForConditionalGeneration.from_pretrained(\"facebook/m2m100_418M\")\n",
        "tokenizer = M2M100Tokenizer.from_pretrained(\"facebook/m2m100_418M\", src_lang=\"en\", tgt_lang=\"fr\")"
      ],
      "metadata": {
        "id": "_kyeFWbjJqM8"
      },
      "execution_count": null,
      "outputs": []
    },
    {
      "cell_type": "code",
      "source": [
        "# translate Hindi to French\n",
        "tokenizer.src_lang = \"hi\"\n",
        "encoded_hi = tokenizer(hi_text, return_tensors=\"pt\")\n",
        "generated_tokens = model.generate(**encoded_hi, forced_bos_token_id=tokenizer.get_lang_id(\"fr\"))\n",
        "tokenizer.batch_decode(generated_tokens, skip_special_tokens=True)\n",
        "\n",
        "# translate Chinese to English\n",
        "tokenizer.src_lang = \"zh\"\n",
        "encoded_zh = tokenizer(chinese_text, return_tensors=\"pt\")\n",
        "generated_tokens = model.generate(**encoded_zh, forced_bos_token_id=tokenizer.get_lang_id(\"en\"))\n",
        "tokenizer.batch_decode(generated_tokens, skip_special_tokens=True)"
      ],
      "metadata": {
        "id": "SpQysEP4J7NU"
      },
      "execution_count": null,
      "outputs": []
    },
    {
      "cell_type": "code",
      "source": [
        "encoded_zh = tokenizer(chinese_text, return_tensors=\"pt\")"
      ],
      "metadata": {
        "id": "ltP8_ywaIzje"
      },
      "execution_count": null,
      "outputs": []
    },
    {
      "cell_type": "code",
      "source": [
        "generated_tokens = model.generate(**encoded_zh, forced_bos_token_id=tokenizer.get_lang_id(\"en\"))\n",
        "tokenizer.batch_decode(generated_tokens, skip_special_tokens=True)"
      ],
      "metadata": {
        "id": "Sd1B1FHKI6WY"
      },
      "execution_count": null,
      "outputs": []
    },
    {
      "cell_type": "markdown",
      "source": [
        "MBart\n",
        "The following MBart models can be used for multilingual translation:\n",
        "\n",
        "facebook/mbart-large-50-one-to-many-mmt (One-to-many multilingual machine translation, 50 languages)\n",
        "facebook/mbart-large-50-many-to-many-mmt (Many-to-many multilingual machine translation, 50 languages)\n",
        "facebook/mbart-large-50-many-to-one-mmt (Many-to-one multilingual machine translation, 50 languages)\n",
        "facebook/mbart-large-50 (Multilingual translation, 50 languages)\n",
        "facebook/mbart-large-cc25\n",
        "In this example, load the facebook/mbart-large-50-many-to-many-mmt checkpoint to translate Finnish to English. You can set the source language in the tokenizer:"
      ],
      "metadata": {
        "id": "Jlzza_JsQbTH"
      }
    },
    {
      "cell_type": "code",
      "source": [
        "\n",
        "from transformers import AutoTokenizer, AutoModelForSeq2SeqLM\n",
        "\n",
        "en_text = \"Do not meddle in the affairs of wizards, for they are subtle and quick to anger.\"\n",
        "fi_text = \"Älä sekaannu velhojen asioihin, sillä ne ovat hienovaraisia ja nopeasti vihaisia.\"\n",
        "\n",
        "tokenizer = AutoTokenizer.from_pretrained(\"facebook/mbart-large-50-many-to-many-mmt\", src_lang=\"fi_FI\")\n",
        "model = AutoModelForSeq2SeqLM.from_pretrained(\"facebook/mbart-large-50-many-to-many-mmt\")"
      ],
      "metadata": {
        "id": "ggrZrsieQdz0"
      },
      "execution_count": null,
      "outputs": []
    },
    {
      "cell_type": "markdown",
      "source": [
        "Tokenize the text:\n",
        "\n"
      ],
      "metadata": {
        "id": "gOv5hp6XQf_5"
      }
    },
    {
      "cell_type": "code",
      "source": [
        "encoded_en = tokenizer(en_text, return_tensors=\"pt\")"
      ],
      "metadata": {
        "id": "kB5pKGtzQh14"
      },
      "execution_count": null,
      "outputs": []
    },
    {
      "cell_type": "markdown",
      "source": [
        "MBart forces the target language id as the first generated token to translate to the target language. Set the forced_bos_token_id to en in the generate method to translate to English:"
      ],
      "metadata": {
        "id": "h364Wji1Qjyo"
      }
    },
    {
      "cell_type": "code",
      "source": [
        "generated_tokens = model.generate(**encoded_en,)\n",
        "tokenizer.batch_decode(generated_tokens, skip_special_tokens=True)"
      ],
      "metadata": {
        "id": "8ZAdxkXcQld7"
      },
      "execution_count": null,
      "outputs": []
    },
    {
      "cell_type": "markdown",
      "source": [
        "If you are using the facebook/mbart-large-50-many-to-one-mmt checkpoint, you don't need to force the target language id as the first generated token otherwise the usage is the same."
      ],
      "metadata": {
        "id": "seJ2ZYT9RIpw"
      }
    }
  ]
}