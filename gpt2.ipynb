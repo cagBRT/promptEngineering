{
  "nbformat": 4,
  "nbformat_minor": 0,
  "metadata": {
    "colab": {
      "private_outputs": true,
      "provenance": [],
      "authorship_tag": "ABX9TyP8W79k8uqkB5UtcJc+yzIB",
      "include_colab_link": true
    },
    "kernelspec": {
      "name": "python3",
      "display_name": "Python 3"
    },
    "language_info": {
      "name": "python"
    }
  },
  "cells": [
    {
      "cell_type": "markdown",
      "metadata": {
        "id": "view-in-github",
        "colab_type": "text"
      },
      "source": [
        "<a href=\"https://colab.research.google.com/github/cagBRT/promptEngineering/blob/main/gpt2.ipynb\" target=\"_parent\"><img src=\"https://colab.research.google.com/assets/colab-badge.svg\" alt=\"Open In Colab\"/></a>"
      ]
    },
    {
      "cell_type": "markdown",
      "source": [
        "# Using GPT2<br>\n",
        "\n",
        "GPT-2 is a transformers model pretrained on a very large corpus of English data in a self-supervised fashion."
      ],
      "metadata": {
        "id": "sCUygZvF9QhI"
      }
    },
    {
      "cell_type": "code",
      "source": [
        "!pip install -U -q transformers"
      ],
      "metadata": {
        "id": "gbihGtltsUsw"
      },
      "execution_count": null,
      "outputs": []
    },
    {
      "cell_type": "code",
      "execution_count": null,
      "metadata": {
        "id": "yuFeJCORsPKf"
      },
      "outputs": [],
      "source": [
        "from transformers import pipeline, set_seed\n",
        "generator = pipeline('text-generation', model='gpt2')\n",
        "set_seed(42)\n",
        "generator(\"Hello, I'm a language model,\", max_length=30, num_return_sequences=5)"
      ]
    },
    {
      "cell_type": "markdown",
      "source": [
        "You can use this model directly with a pipeline for text generation. Since the generation relies on some randomness, we set a seed for reproducibility"
      ],
      "metadata": {
        "id": "2ckrlpQa-_et"
      }
    },
    {
      "cell_type": "code",
      "source": [
        "from transformers import pipeline, set_seed\n",
        "generator = pipeline('text-generation', model='gpt2')\n",
        "set_seed(42)\n",
        "generator(\"The man worked as a\", max_length=10, num_return_sequences=5)"
      ],
      "metadata": {
        "id": "SBOjm-NVsSMU"
      },
      "execution_count": null,
      "outputs": []
    },
    {
      "cell_type": "code",
      "source": [
        "set_seed(42)\n",
        "generator(\"The dog worked as a\", max_length=10, num_return_sequences=5)"
      ],
      "metadata": {
        "id": "ipEmjpFUstkV"
      },
      "execution_count": null,
      "outputs": []
    }
  ]
}