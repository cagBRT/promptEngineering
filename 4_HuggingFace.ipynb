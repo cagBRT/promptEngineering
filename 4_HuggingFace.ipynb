{
  "nbformat": 4,
  "nbformat_minor": 0,
  "metadata": {
    "colab": {
      "private_outputs": true,
      "provenance": [],
      "gpuType": "T4",
      "authorship_tag": "ABX9TyMLEw/Q7wLwVGAjnpFJ8CCD",
      "include_colab_link": true
    },
    "kernelspec": {
      "name": "python3",
      "display_name": "Python 3"
    },
    "language_info": {
      "name": "python"
    },
    "accelerator": "GPU",
    "gpuClass": "standard"
  },
  "cells": [
    {
      "cell_type": "markdown",
      "metadata": {
        "id": "view-in-github",
        "colab_type": "text"
      },
      "source": [
        "<a href=\"https://colab.research.google.com/github/cagBRT/promptEngineering/blob/main/4_HuggingFace.ipynb\" target=\"_parent\"><img src=\"https://colab.research.google.com/assets/colab-badge.svg\" alt=\"Open In Colab\"/></a>"
      ]
    },
    {
      "cell_type": "code",
      "source": [
        "# Clone the entire repo.\n",
        "!git clone -l -s https://github.com/cagBRT/promptEngineering.git cloned-repo\n",
        "%cd cloned-repo"
      ],
      "metadata": {
        "id": "goSU0xkXP84h"
      },
      "execution_count": null,
      "outputs": []
    },
    {
      "cell_type": "code",
      "execution_count": null,
      "metadata": {
        "id": "8HqlUcgGiVre"
      },
      "outputs": [],
      "source": [
        "# Transformers installation\n",
        "! pip install transformers datasets\n",
        "# To install from source instead of the last release, comment the command above and uncomment the following one.\n",
        "# ! pip install git+https://github.com/huggingface/transformers.git"
      ]
    },
    {
      "cell_type": "code",
      "source": [
        "!pip install xformers"
      ],
      "metadata": {
        "id": "B48kCeIhT3zX"
      },
      "execution_count": null,
      "outputs": []
    },
    {
      "cell_type": "code",
      "source": [
        "from transformers import pipeline\n",
        "from transformers import AutoTokenizer, TFAutoModelForSequenceClassification\n",
        "import tensorflow as tf\n",
        "from transformers import AutoTokenizer, TFAutoModelForQuestionAnswering\n",
        "from pprint import pprint\n",
        "from transformers import AutoModelForMaskedLM, AutoTokenizer\n",
        "import torch\n",
        "from transformers import TFAutoModelForMaskedLM, AutoTokenizer\n",
        "from transformers import AutoModelForCausalLM, AutoTokenizer, top_k_top_p_filtering\n",
        "from torch import nn\n"
      ],
      "metadata": {
        "id": "zQ4Zh0BPi-IL"
      },
      "execution_count": null,
      "outputs": []
    },
    {
      "cell_type": "markdown",
      "source": [
        "# Summary of the tasks\n",
        "This notebook shows some of the most frequent use-cases NLP transformers."
      ],
      "metadata": {
        "id": "-f4MJLOh44no"
      }
    },
    {
      "cell_type": "markdown",
      "source": [
        "Tasks demonstrated in this notebook:\n",
        ">question answering<br>\n",
        "sequence classification<br>\n",
        "extractive question answering<br>\n",
        "language modeling<br>\n",
        "masked language modeling<br>\n",
        "causal language modeling<br>\n",
        "text generation<br>\n",
        "named entity recognition<br>\n",
        "checking paraphrasing<br>\n",
        "\n",
        "audio classification<br>\n",
        "automatic speech recognition<br>\n",
        "image classification<br>\n",
        "\n",
        "These examples use auto-models, which are classes that will instantiate a model according to a given checkpoint, automatically selecting the correct model architecture."
      ],
      "metadata": {
        "id": "3HQjcpEG5AV6"
      }
    },
    {
      "cell_type": "markdown",
      "source": [
        "**For a model to perform well on a task, it must be loaded from a checkpoint corresponding to that task.** <br><br>\n",
        "These checkpoints are usually pre-trained on a large corpus of data and fine-tuned on a specific task. This means the following:\n",
        "\n",
        "- Not all models were fine-tuned on all tasks. If you want to fine-tune a model on a specific task, you can leverage one of the run_$TASK.py scripts in the examples directory.<vbr>\n",
        "\n",
        "- Fine-tuned models were fine-tuned on a specific dataset. This dataset may or may not overlap with your use-case and domain. As mentioned previously, you may leverage the examples scripts to fine-tune your model, or you may create your own training script.<br>"
      ],
      "metadata": {
        "id": "id8J22sf5tQt"
      }
    },
    {
      "cell_type": "markdown",
      "source": [
        "**In order to do an inference on a task, several mechanisms are made available by the library:**\n",
        "\n",
        "- Pipelines: very easy-to-use abstractions, which require as little as two lines of code.\n",
        "- Direct model use: Less abstractions, but more flexibility and power via a direct access to a tokenizer (PyTorch/TensorFlow) and full inference capacity.\n",
        "Both approaches are demonstrated in this notebook.\n",
        "\n"
      ],
      "metadata": {
        "id": "_hqHj0UciflK"
      }
    },
    {
      "cell_type": "markdown",
      "source": [
        "All tasks presented here leverage pre-trained checkpoints that were fine-tuned on specific tasks. Loading a checkpoint that was not fine-tuned on a specific task would load only the base transformer layers and not the additional head that is used for the task, initializing the weights of that head randomly. This would produce random output."
      ],
      "metadata": {
        "id": "XnZhzy0d6J0M"
      }
    },
    {
      "cell_type": "markdown",
      "source": [
        "# Sequence Classification"
      ],
      "metadata": {
        "id": "pPuKstAMTC5C"
      }
    },
    {
      "cell_type": "markdown",
      "source": [
        "**Sequence classification is the task of classifying sequences according to a given number of classes.** <br>\n",
        "\n",
        "In this example we use pipelines to do sentiment analysis: identifying if a sequence is positive or negative. It leverages a fine-tuned model on sst2, which is a GLUE task.\n",
        "\n",
        "The model returns a label (\"POSITIVE\" or \"NEGATIVE\") alongside a score, as follows:\n"
      ],
      "metadata": {
        "id": "oCtFEDECiiLE"
      }
    },
    {
      "cell_type": "markdown",
      "source": [
        "Notice the code does not specify a model- we are using \"pipeline abstraction\" to do sentiment-analysis. <br>\n",
        "For production release, you will need to specify a model"
      ],
      "metadata": {
        "id": "DSR9Zja0XDLk"
      }
    },
    {
      "cell_type": "code",
      "source": [
        "#from transformers import pipeline\n",
        "\n",
        "classifier = pipeline(\"sentiment-analysis\")\n",
        "result = classifier(\"I hate you\")[0]\n",
        "print(f\"label: {result['label']}, with score: {round(result['score'], 4)}\")"
      ],
      "metadata": {
        "id": "_xKqgPioikXN"
      },
      "execution_count": null,
      "outputs": []
    },
    {
      "cell_type": "code",
      "source": [
        "result = classifier(\"I love you\")[0]\n",
        "print(f\"label: {result['label']}, with score: {round(result['score'], 4)}\")"
      ],
      "metadata": {
        "id": "a_kqDGcQinUQ"
      },
      "execution_count": null,
      "outputs": []
    },
    {
      "cell_type": "markdown",
      "source": [
        "\n",
        "\n",
        "---\n",
        "\n",
        "\n",
        "\n",
        "---\n",
        "\n",
        "\n",
        "\n",
        "---\n",
        "\n"
      ],
      "metadata": {
        "id": "29tBy1B2dicn"
      }
    },
    {
      "cell_type": "markdown",
      "source": [
        "#Checking for Paraphrases"
      ],
      "metadata": {
        "id": "DVVe3wg2ZOn2"
      }
    },
    {
      "cell_type": "markdown",
      "source": [
        "Here is an example of doing a sequence classification using a model to determine if two sequences are paraphrases of each other.\n",
        "\n",
        "1. Instantiate a tokenizer and a model from the checkpoint name. The model is identified as a BERT model and loads it with the weights stored in the checkpoint.<br>\n",
        "2. Build a sequence from the two sentences, with the correct model-specific separators, token type ids and attention masks (which will be created automatically by the tokenizer).<br>\n",
        "3. Pass this sequence through the model so that it is classified in one of the two available classes:\n",
        ">0 (not a paraphrase) <br>\n",
        "1 (is a paraphrase)<br>\n",
        "\n",
        "Compute the softmax of the result to get probabilities over the classes.\n",
        "Print the results."
      ],
      "metadata": {
        "id": "2d_OROg-iwTo"
      }
    },
    {
      "cell_type": "markdown",
      "source": [
        "**TensorFlow**"
      ],
      "metadata": {
        "id": "P56ra9UkeEsR"
      }
    },
    {
      "cell_type": "code",
      "source": [
        "#from transformers import AutoTokenizer, TFAutoModelForSequenceClassification\n",
        "#import tensorflow as tf\n",
        "\n",
        "tokenizer = AutoTokenizer.from_pretrained(\"bert-base-cased-finetuned-mrpc\")\n",
        "model = TFAutoModelForSequenceClassification.from_pretrained(\"bert-base-cased-finetuned-mrpc\")\n",
        "\n",
        "classes = [\"not paraphrase\", \"is paraphrase\"]\n",
        "\n",
        "sequence_0 = \"The company HuggingFace is based in New York City\"\n",
        "sequence_1 = \"Apples are especially bad for your health\"\n",
        "sequence_2 = \"HuggingFace's headquarters are situated in Manhattan\"\n",
        "\n",
        "# The tokenizer will automatically add any model specific separators (i.e.  and ) and tokens to\n",
        "# the sequence, as well as compute the attention masks.\n",
        "\n",
        "#====\n",
        "#compare senquence0 and sequence2\n",
        "paraphrase = tokenizer(sequence_0, sequence_2, return_tensors=\"tf\")\n",
        "#compare senquence0 and sequence1\n",
        "not_paraphrase = tokenizer(sequence_0, sequence_1, return_tensors=\"tf\")\n",
        "\n",
        "#logits can be defined as a vector of raw predictions that a\n",
        "#classification model generates and it is passed to a normalized function.\n",
        "\n",
        "paraphrase_classification_logits = model(paraphrase).logits\n",
        "not_paraphrase_classification_logits = model(not_paraphrase).logits\n",
        "\n",
        "paraphrase_results = tf.nn.softmax(paraphrase_classification_logits, axis=1).numpy()[0]\n",
        "not_paraphrase_results = tf.nn.softmax(not_paraphrase_classification_logits, axis=1).numpy()[0]"
      ],
      "metadata": {
        "id": "ilLcA0hhi49R"
      },
      "execution_count": null,
      "outputs": []
    },
    {
      "cell_type": "code",
      "source": [
        "# Should be paraphrased\n",
        "for i in range(len(classes)):\n",
        "    print(f\"{classes[i]}: {int(round(paraphrase_results[i] * 100))}%\")"
      ],
      "metadata": {
        "id": "QrAryx7Ff4Ax"
      },
      "execution_count": null,
      "outputs": []
    },
    {
      "cell_type": "code",
      "source": [
        "# Should not be paraphrased\n",
        "for i in range(len(classes)):\n",
        "    print(f\"{classes[i]}: {int(round(not_paraphrase_results[i] * 100))}%\")"
      ],
      "metadata": {
        "id": "9g8DezXFi7_d"
      },
      "execution_count": null,
      "outputs": []
    },
    {
      "cell_type": "markdown",
      "source": [
        "**Assignment**<br>\n",
        "Write different sentences, some paraphrasing, others not. <br>\n",
        "See how well the model performs"
      ],
      "metadata": {
        "id": "FWLbiyu0eIcq"
      }
    },
    {
      "cell_type": "markdown",
      "source": [
        "\n",
        "\n",
        "---\n",
        "\n",
        "\n",
        "---\n",
        "\n",
        "\n",
        "\n",
        "\n",
        "---\n",
        "\n"
      ],
      "metadata": {
        "id": "8YuH2cQ5d6Mk"
      }
    },
    {
      "cell_type": "markdown",
      "source": [
        "# Extractive Question Answering\n",
        "Extractive Question Answering is the task of extracting an answer from a text given a question.<br>\n",
        " An example of a question answering dataset is the [SQuAD dataset](https://rajpurkar.github.io/SQuAD-explorer/), which is entirely based on that task. If you would like to fine-tune a model on a SQuAD task, you may leverage the run_qa.py and run_tf_squad.py scripts.\n",
        "\n"
      ],
      "metadata": {
        "id": "ou7YMDe3jDuL"
      }
    },
    {
      "cell_type": "markdown",
      "source": [
        "**Stanford Question Answering Dataset (SQuAD)** is a reading comprehension dataset, consisting of questions posed by crowdworkers on a set of Wikipedia articles,\n",
        "\n",
        "*where the answer to every question is a segment of text, or span, from the corresponding reading passage,*\n",
        "\n",
        "or the question might be unanswerable."
      ],
      "metadata": {
        "id": "GAiSpTlY8T4j"
      }
    },
    {
      "cell_type": "markdown",
      "source": [
        "Here is an example of using pipelines to do question answering: extracting an answer from a text given a question. <br>\n",
        "It leverages a  model fine-tuned on SQuAD."
      ],
      "metadata": {
        "id": "ZLYP4TYWgR0d"
      }
    },
    {
      "cell_type": "code",
      "source": [
        "#from transformers import pipeline\n",
        "\n",
        "question_answerer = pipeline(\"question-answering\")\n",
        "\n",
        "context = r\"\"\"\n",
        "Knitting is a method for production of textile fabrics by interlacing yarn loops with /\n",
        "loops of the same or other yarns./\n",
        "It is used to create many types of garments. Knitting may be done by hand or by machine./\n",
        "Knitting creates stitches: loops of yarn in a row, either flat or in the round (tubular). /\n",
        "There are usually many active stitches on the knitting needle at one time. /\n",
        "Knitted fabric consists of a number of consecutive rows of connected loops that /\n",
        "intermesh with the next and previous rows. As each row is formed, each newly created/\n",
        " loop is pulled through one or more loops from the prior row and placed on the gaining/\n",
        "  needle so that the loops from the prior row can be pulled off the other needle /\n",
        "  without unraveling.\n",
        "\n",
        "Differences in yarn (varying in fibre type, weight, uniformity and twist), needle size,/\n",
        " and stitch type allow for a variety of knitted fabrics with different properties, /\n",
        " including color, texture, thickness, heat retention, water resistance, and integrity./\n",
        "  A small sample of knitwork is known as a swatch.\n",
        "\"\"\""
      ],
      "metadata": {
        "id": "c4axWvgqi8BG"
      },
      "execution_count": null,
      "outputs": []
    },
    {
      "cell_type": "markdown",
      "source": [
        "This returns an answer extracted from the text, a confidence score, alongside \"start\" and \"end\" values, which are the positions of the extracted answer in the text.\n",
        "\n"
      ],
      "metadata": {
        "id": "k-_xoxTajJCz"
      }
    },
    {
      "cell_type": "code",
      "source": [
        "textlisting=\"Knitting is a method for production of textile fabrics by interlacing yarn loops with loops of the same or other yarns\"\n",
        "textlisting[58:69]"
      ],
      "metadata": {
        "id": "LCfh9T4Rhca6"
      },
      "execution_count": null,
      "outputs": []
    },
    {
      "cell_type": "code",
      "source": [
        "result = question_answerer(question=\"What is knitting\", context=context)\n",
        "print(\n",
        "    f\"Answer: '{result['answer']}', score: {round(result['score'], 4)}, start: {result['start']}, end: {result['end']}\"\n",
        ")"
      ],
      "metadata": {
        "id": "BqZSCU4cjK5C"
      },
      "execution_count": null,
      "outputs": []
    },
    {
      "cell_type": "code",
      "source": [
        "result = question_answerer(question=\"What is a swatch?\", context=context)\n",
        "print(\n",
        "    f\"Answer: '{result['answer']}', score: {round(result['score'], 4)}, start: {result['start']}, end: {result['end']}\"\n",
        ")"
      ],
      "metadata": {
        "id": "fiseYUvOjM_K"
      },
      "execution_count": null,
      "outputs": []
    },
    {
      "cell_type": "markdown",
      "source": [
        "\n",
        "\n",
        "---\n",
        "\n",
        "\n",
        "\n",
        "---\n",
        "\n"
      ],
      "metadata": {
        "id": "3Nrc1TQ3iplL"
      }
    },
    {
      "cell_type": "markdown",
      "source": [
        "**Here is an example of question answering using a model and a tokenizer**.\n",
        "\n",
        "1. Instantiate a tokenizer and a model from the checkpoint name. The model is identified as a BERT model and loads it with the weights stored in the checkpoint.\n",
        "2. Define a text and a few questions.\n",
        "Iterate over the questions and build a sequence from the text and the current question, with the correct model-specific separators, token type ids and attention masks.\n",
        "3. Pass this sequence through the model. This outputs a range of scores across the entire sequence tokens (question and text), for both the start and end positions.\n",
        "4. Compute the softmax of the result to get probabilities over the tokens.\n",
        "Fetch the tokens from the identified start and stop values, convert those tokens to a string.\n",
        "5. Print the results.<br>\n",
        "\n",
        "An answer of CLS == answer not found"
      ],
      "metadata": {
        "id": "byRR89lxjO4z"
      }
    },
    {
      "cell_type": "markdown",
      "source": [
        "\n",
        "\n",
        "---\n",
        "\n",
        "---\n",
        "\n",
        "\n",
        "\n",
        "\n",
        "\n",
        "---\n",
        "\n"
      ],
      "metadata": {
        "id": "GGgdk2hvmKS7"
      }
    },
    {
      "cell_type": "markdown",
      "source": [
        "# Language Modeling\n",
        "**Language modeling is the task of fitting a model to a corpus**, which can be domain specific.\n",
        "\n",
        "<br>All popular transformer-based models are trained using a variant of language modeling, <br>\n",
        "e.g. <br>\n",
        ">BERT with masked language modeling, <br>\n",
        "GPT-2 with causal language modeling.\n",
        "\n",
        "Language modeling can be useful outside of pretraining as well, <br>\n",
        "For example to shift the model distribution to be domain-specific:<br>\n",
        " 1. use a language model trained over a very large corpus,\n",
        " 2. then fine-tune it to a news dataset or on scientific papers\n",
        "\n"
      ],
      "metadata": {
        "id": "tUkRluAYjy-6"
      }
    },
    {
      "cell_type": "markdown",
      "source": [
        "# Masked Language Modeling<br>\n",
        "\n",
        "**Masked language models do not require labelled data!**<br>\n",
        "They are trained by masking a couple of words in sentences and the model is expected to guess the masked word.\n",
        "\n",
        "<br>\n",
        "\n",
        "Masked language modeling is the task of masking tokens in a sequence with a masking token, and **prompting the model to fill that mask with an appropriate token**.<br>\n",
        "\n",
        " This allows the model to attend to both the right context (tokens on the right of the mask) and the left context (tokens on the left of the mask).\n",
        " <br><br>\n",
        " **Such a training creates a strong basis for downstream tasks requiring bi-directional context**, such as SQuAD.\n",
        "\n"
      ],
      "metadata": {
        "id": "tkBA1hh6mC9k"
      }
    },
    {
      "cell_type": "markdown",
      "source": [
        "**Masked language** modeling is the task of masking some of the words in a sentence and predicting which words should replace those masks. These models are useful when we want to get a statistical understanding of the language in which the model is trained in.\n",
        "\n"
      ],
      "metadata": {
        "id": "bN7sUZlRqJPo"
      }
    },
    {
      "cell_type": "markdown",
      "source": [
        "**Use cases for Masking**: <br>\n",
        "**Domain Adaptation**: train large models for domain-specific problems. If you have to work on a domain-specific task, such as retrieving information from medical research papers, you can train a masked language model using those papers. <br><br>\n",
        "The resulting model has a statistical understanding of the language used in medical research papers, and can be *further trained in a process called fine-tuning to solve different tasks, such as Text Classification or Question Answering to build a medical research papers information extraction system.*<br>Pre-training on domain-specific data tends to yield better results.\n",
        "<br><br>\n",
        "**Inference with Fill-Mask Pipeline**\n",
        "You can use the HuggingFace Transformers library fill-mask pipeline to do inference with masked language models. If a model name is not provided, the pipeline will be initialized with distilroberta-base. You can provide masked text and it will return a list of possible mask values ​​ranked according to the score."
      ],
      "metadata": {
        "id": "EekMJlruqXdX"
      }
    },
    {
      "cell_type": "markdown",
      "source": [
        "Here is an example of using pipelines to replace a mask from a sequence:"
      ],
      "metadata": {
        "id": "vDoCCk34nOn2"
      }
    },
    {
      "cell_type": "code",
      "source": [
        "#from transformers import pipeline\n",
        "unmasker = pipeline(\"fill-mask\")"
      ],
      "metadata": {
        "id": "E_11ic8ij0tW"
      },
      "execution_count": null,
      "outputs": []
    },
    {
      "cell_type": "markdown",
      "source": [
        "This outputs the sequences with the mask filled, the confidence score, and the token id in the tokenizer vocabulary:\n",
        "\n"
      ],
      "metadata": {
        "id": "rGrn7eKwj23Z"
      }
    },
    {
      "cell_type": "markdown",
      "source": [
        "**pprint stands for pretty printer**\n",
        "<br>The pprint module's functionality enables aesthetically good looking appearance of Python data structures. Any data structure that can be correctly parsed by Python interpreter is elegantly formatted."
      ],
      "metadata": {
        "id": "hXkxh8QGuX6K"
      }
    },
    {
      "cell_type": "code",
      "source": [
        "#from pprint import pprint\n",
        "pprint(\n",
        "    unmasker(\n",
        "        f\"HuggingFace is creating a {unmasker.tokenizer.mask_token} that the community uses to solve NLP tasks.\"\n",
        "    )\n",
        ")\n",
        "#Prints top 5 possible values"
      ],
      "metadata": {
        "id": "GyQPEzcrj4bq"
      },
      "execution_count": null,
      "outputs": []
    },
    {
      "cell_type": "code",
      "source": [
        "pprint(\n",
        "    unmasker(\n",
        "        f\"John Deere manufactures {unmasker.tokenizer.mask_token} that farmers use to solve problems.\"\n",
        "    )\n",
        ")"
      ],
      "metadata": {
        "id": "TtVhSVQUnaR5"
      },
      "execution_count": null,
      "outputs": []
    },
    {
      "cell_type": "markdown",
      "source": [
        "**Example of doing masked language modeling using a model and a tokenizer**.\n",
        "\n",
        "\n",
        "1. Instantiate a tokenizer and a model from the checkpoint name. The model is identified as a DistilBERT model and loads it with the weights stored in the checkpoint.\n",
        "2. Define a sequence with a masked token, placing the tokenizer.mask_token instead of a word.\n",
        "3. Encode that sequence into a list of IDs and find the position of the masked token in that list.\n",
        "4. Retrieve the predictions at the index of the mask token: this tensor has the same size as the vocabulary, and the values are the scores attributed to each token. **The model gives higher score to tokens it deems probable in that context.**\n",
        "5. Retrieve the top 5 tokens using the PyTorch topk or TensorFlow top_k methods.\n",
        "6. Replace the mask token by the tokens and print the results"
      ],
      "metadata": {
        "id": "C6C2SVeXj9S7"
      }
    },
    {
      "cell_type": "code",
      "source": [
        "from transformers import TFAutoModelForMaskedLM, AutoTokenizer\n",
        "import tensorflow as tf\n",
        "\n",
        "tokenizer = AutoTokenizer.from_pretrained(\"distilbert-base-cased\")\n",
        "model = TFAutoModelForMaskedLM.from_pretrained(\"distilbert-base-cased\")\n",
        "\n",
        "sequence = (\n",
        "    \"Distilled models are smaller than the models they mimic. Using them instead of the large \"\n",
        "    f\"versions would help {tokenizer.mask_token} our carbon footprint.\"\n",
        ")\n",
        "\n",
        "inputs = tokenizer(sequence, return_tensors=\"tf\")\n",
        "mask_token_index = tf.where(inputs[\"input_ids\"] == tokenizer.mask_token_id)[0, 1]\n",
        "\n",
        "token_logits = model(**inputs).logits\n",
        "mask_token_logits = token_logits[0, mask_token_index, :]\n",
        "\n",
        "top_5_tokens = tf.math.top_k(mask_token_logits, 5).indices.numpy()\n",
        "\n",
        "for token in top_5_tokens:\n",
        "    print(sequence.replace(tokenizer.mask_token, tokenizer.decode([token])))\n"
      ],
      "metadata": {
        "id": "ceETsofXkC7E"
      },
      "execution_count": null,
      "outputs": []
    },
    {
      "cell_type": "markdown",
      "source": [
        "\n",
        "\n",
        "---\n",
        "\n",
        "\n",
        "\n",
        "---\n",
        "\n",
        "\n",
        "\n",
        "---\n",
        "\n"
      ],
      "metadata": {
        "id": "Im83Ao03oTZD"
      }
    },
    {
      "cell_type": "markdown",
      "source": [
        "# Causal Language Modeling\n",
        "**Causal language modeling is the task of predicting the token following a sequence of tokens.**\n",
        "\n",
        "In this situation, the model only attends to the left context (tokens on the left of the mask). Such a training is particularly interesting for generation tasks.\n",
        "\n",
        "Usually, the next token is predicted by sampling from the logits of the last hidden state the model produces from the input sequence.\n",
        "\n",
        "\n",
        "\n"
      ],
      "metadata": {
        "id": "_SABNqSGkF-q"
      }
    },
    {
      "cell_type": "markdown",
      "source": [
        "**Example of using the tokenizer and model** and leveraging the top_k_top_p_filtering() method to sample the next token following an input sequence of tokens."
      ],
      "metadata": {
        "id": "DrFeyjCpozVj"
      }
    },
    {
      "cell_type": "markdown",
      "source": [
        "**This model outputs a (hopefully) coherent next token following the original sequence, which in our case is the word is or features.**"
      ],
      "metadata": {
        "id": "t9CHAhbIpDiC"
      }
    },
    {
      "cell_type": "code",
      "source": [
        "from transformers import AutoModelForCausalLM, AutoTokenizer, top_k_top_p_filtering\n",
        "import torch\n",
        "from torch import nn\n",
        "\n",
        "tokenizer = AutoTokenizer.from_pretrained(\"gpt2\")\n",
        "model = AutoModelForCausalLM.from_pretrained(\"gpt2\")\n",
        "\n",
        "sequence = f\"The Raiders football team moved to Las Vegas and\"\n",
        "\n",
        "inputs = tokenizer(sequence, return_tensors=\"pt\")\n",
        "input_ids = inputs[\"input_ids\"]\n",
        "\n",
        "# get logits of last hidden state\n",
        "next_token_logits = model(**inputs).logits[:, -1, :]\n",
        "\n",
        "# filter\n",
        "filtered_next_token_logits = top_k_top_p_filtering(next_token_logits, top_k=50, top_p=1.0)\n",
        "\n",
        "# sample\n",
        "probs = nn.functional.softmax(filtered_next_token_logits, dim=-1)\n",
        "next_token = torch.multinomial(probs, num_samples=1)\n",
        "\n",
        "generated = torch.cat([input_ids, next_token], dim=-1)\n",
        "\n",
        "resulting_string = tokenizer.decode(generated.tolist()[0])\n",
        "print(resulting_string)"
      ],
      "metadata": {
        "id": "3HAb4rLwkIPw"
      },
      "execution_count": null,
      "outputs": []
    },
    {
      "cell_type": "markdown",
      "source": [
        "\n",
        "\n",
        "---\n",
        "\n",
        "\n",
        "\n",
        "---\n",
        "\n",
        "\n",
        "\n",
        "---\n",
        "\n"
      ],
      "metadata": {
        "id": "htEdObhvpQTX"
      }
    },
    {
      "cell_type": "markdown",
      "source": [
        "# Text Generation\n",
        "In text generation (a.k.a open-ended text generation) the goal is to create a coherent portion of text that is a continuation from the given context. <br><br>\n",
        "The next example shows how GPT-2 can be used in pipelines to generate text. <br><br>\n",
        "As a default all models apply Top-K sampling when used in pipelines, as configured in their respective configurations (see gpt-2 config for example)."
      ],
      "metadata": {
        "id": "-Xn9aNIJkcbW"
      }
    },
    {
      "cell_type": "code",
      "source": [
        "from transformers import pipeline\n",
        "\n",
        "text_generator = pipeline(\"text-generation\")\n",
        "print(text_generator(\"As far as I am concerned, I will\", max_length=50, do_sample=False))\n"
      ],
      "metadata": {
        "id": "ZQkZhyGlkePe"
      },
      "execution_count": null,
      "outputs": []
    },
    {
      "cell_type": "markdown",
      "source": [
        "Here, the model generates a random text with a total maximal length of 50 tokens from context \"As far as I am concerned, I will\". Behind the scenes, the pipeline object calls the method PreTrainedModel.generate() to generate text. The default arguments for this method can be overridden in the pipeline, as is shown above for the arguments max_length and do_sample.\n",
        "\n",
        "Below is an example of text generation using XLNet and its tokenizer, which includes calling generate() directly:"
      ],
      "metadata": {
        "id": "fo3BgOSBkg2X"
      }
    },
    {
      "cell_type": "code",
      "source": [
        "from transformers import TFAutoModelForCausalLM, AutoTokenizer\n",
        "\n",
        "model = TFAutoModelForCausalLM.from_pretrained(\"xlnet-base-cased\")\n",
        "tokenizer = AutoTokenizer.from_pretrained(\"xlnet-base-cased\")\n",
        "\n",
        "# Padding text helps XLNet with short prompts - proposed by Aman Rusia in https://github.com/rusiaaman/XLNet-gen#methodology\n",
        "PADDING_TEXT = \"\"\"In 1991, the remains of Russian Tsar Nicholas II and his family\n",
        "(except for Alexei and Maria) are discovered.\n",
        "The voice of Nicholas's young son, Tsarevich Alexei Nikolaevich, narrates the\n",
        "remainder of the story. 1883 Western Siberia,\n",
        "a young Grigori Rasputin is asked by his father and a group of men to perform magic.\n",
        "Rasputin has a vision and denounces one of the men as a horse thief. Although his\n",
        "father initially slaps him for making such an accusation, Rasputin watches as the\n",
        "man is chased outside and beaten. Twenty years later, Rasputin sees a vision of\n",
        "the Virgin Mary, prompting him to become a priest. Rasputin quickly becomes famous,\n",
        "with people, even a bishop, begging for his blessing.   \"\"\"\n",
        "\n",
        "prompt = \"Today the weather is really nice and I am planning on \"\n",
        "inputs = tokenizer(PADDING_TEXT + prompt, add_special_tokens=False, return_tensors=\"tf\")[\"input_ids\"]\n",
        "\n",
        "prompt_length = len(tokenizer.decode(inputs[0]))\n",
        "outputs = model.generate(inputs, max_length=250, do_sample=True, top_p=0.95, top_k=60)\n",
        "generated = prompt + tokenizer.decode(outputs[0])[prompt_length + 1 :]\n",
        "\n",
        "print(generated)\n"
      ],
      "metadata": {
        "id": "foEhn0Unkro2"
      },
      "execution_count": null,
      "outputs": []
    },
    {
      "cell_type": "markdown",
      "source": [
        "Text generation is currently possible with GPT-2, OpenAi-GPT, CTRL, XLNet, Transfo-XL and Reformer in PyTorch and for most models in Tensorflow as well. As can be seen in the example above XLNet and Transfo-XL often need to be padded to work well. GPT-2 is usually a good choice for open-ended text generation because it was trained on millions of webpages with a causal language modeling objective.\n",
        "\n",
        "**Named Entity Recognition**\n",
        "Named Entity Recognition (NER) is the task of classifying tokens according to a class, for example, identifying a token as a person, an organisation or a location.<br>\n",
        "An example of a named entity recognition dataset is the CoNLL-2003 dataset, which is entirely based on that task. If you would like to fine-tune a model on an NER task, you may leverage the run_ner.py script.\n",
        "\n",
        "Here is an example of using pipelines to do named entity recognition, specifically, trying to identify tokens as belonging to one of 9 classes:<br>\n",
        "\n",
        "- O, Outside of a named entity<br>\n",
        "- B-MIS, Beginning of a miscellaneous entity right after another miscellaneous entity<br>\n",
        "- I-MIS, Miscellaneous entity<br>\n",
        "- B-PER, Beginning of a person's name right after another person's name<br>\n",
        "- I-PER, Person's name<br>\n",
        "- B-ORG, Beginning of an organisation<br> right after another organisation<br>\n",
        "- I-ORG, Organisation<br>\n",
        "- B-LOC, Beginning of a location right after another location<br>\n",
        "- I-LOC, Location<br>\n",
        "\n",
        "It leverages a fine-tuned model on CoNLL-2003, fine-tuned by @stefan-it from dbmdz."
      ],
      "metadata": {
        "id": "GH2NRf1tkv38"
      }
    },
    {
      "cell_type": "markdown",
      "source": [
        "CoNLL-2003 is a named entity recognition dataset released as a part of CoNLL-2003 shared task: language-independent named entity recognition. <br>\n",
        "The data consists of eight files covering two languages: English and German. <br>\n",
        "For each of the languages there is:<br>\n",
        "> a training file<br>\n",
        "a development file<br>\n",
        "a test file<br>\n",
        "a large file with unannotated data."
      ],
      "metadata": {
        "id": "ds-j1SDVvZUQ"
      }
    },
    {
      "cell_type": "code",
      "source": [
        "from transformers import pipeline\n",
        "\n",
        "ner_pipe = pipeline(\"ner\")\n",
        "\n",
        "sequence = \"\"\"Hugging Face Inc. is a company based in New York City. Its headquarters are in DUMBO,\n",
        "therefore very close to the Manhattan Bridge which is visible from the window.\"\"\""
      ],
      "metadata": {
        "id": "IMz9PegFk3cp"
      },
      "execution_count": null,
      "outputs": []
    },
    {
      "cell_type": "markdown",
      "source": [
        "This outputs a list of all words that have been identified as one of the entities from the 9 classes defined above. Here are the expected results:"
      ],
      "metadata": {
        "id": "UEfcVWV5k5xF"
      }
    },
    {
      "cell_type": "code",
      "source": [
        "for entity in ner_pipe(sequence):\n",
        "    print(entity)"
      ],
      "metadata": {
        "id": "c9dpmzm5k7QY"
      },
      "execution_count": null,
      "outputs": []
    },
    {
      "cell_type": "markdown",
      "source": [
        "Note how the tokens of the sequence \"Hugging Face\" have been identified as an organisation, and \"New York City\", \"DUMBO\" and \"Manhattan Bridge\" have been identified as locations.\n"
      ],
      "metadata": {
        "id": "IDs6XIKywNad"
      }
    },
    {
      "cell_type": "markdown",
      "source": [
        "**Named Entity Recognition**, using a model and a tokenizer. <br><br>\n",
        "The process is the following:<br>\n",
        "\n",
        "- Instantiate a tokenizer and a model from the checkpoint name. <br>\n",
        "- The model is identified as a BERT model and loads it with the weights stored in the checkpoint.<br>\n",
        "- Define a sequence with known entities, such as \"Hugging Face\" as an organisation and \"New York City\" as a location.<br>\n",
        "- Split words into tokens so that they can be mapped to predictions. We use a small hack by, first, completely encoding and decoding the sequence, so that we're left with a string that contains the special tokens.<br>\n",
        "- Encode that sequence into IDs (special tokens are added automatically).<br>\n",
        "- Retrieve the predictions by passing the input to the model and getting the first output.<br>\n",
        "\n",
        "This results in a distribution over the 9 possible classes for each token.\n",
        "<br>We take the argmax to retrieve the most likely class for each token.\n",
        "<br>Zip together each token with its prediction and print it."
      ],
      "metadata": {
        "id": "Yc7FEHA6k-KV"
      }
    },
    {
      "cell_type": "code",
      "source": [
        "from transformers import TFAutoModelForTokenClassification, AutoTokenizer\n",
        "import tensorflow as tf\n",
        "\n",
        "model = TFAutoModelForTokenClassification.from_pretrained(\"dbmdz/bert-large-cased-finetuned-conll03-english\")\n",
        "tokenizer = AutoTokenizer.from_pretrained(\"bert-base-cased\")\n",
        "\n",
        "sequence = (\n",
        "    \"Hugging Face Inc. is a company based in New York City.\"\n",
        "    \"Its headquarters are in DUMBO, \"\n",
        "    \"therefore very close to the Manhattan Bridge.\"\n",
        ")\n",
        "\n",
        "inputs = tokenizer(sequence, return_tensors=\"tf\")\n",
        "tokens = inputs.tokens()\n",
        "\n",
        "outputs = model(**inputs)[0]\n",
        "predictions = tf.argmax(outputs, axis=2)"
      ],
      "metadata": {
        "id": "lkzKen4HlI2k"
      },
      "execution_count": null,
      "outputs": []
    },
    {
      "cell_type": "markdown",
      "source": [
        "This outputs a list of each token mapped to its corresponding prediction.<br> Differently from the pipeline, here every token has a prediction as we didn't remove **the \"0\"th class, which means that no particular entity was found on that token**.<br>\n",
        "\n"
      ],
      "metadata": {
        "id": "Eu896g0glLGG"
      }
    },
    {
      "cell_type": "markdown",
      "source": [
        "Predictions is an integer that corresponds to the predicted class. <br>\n",
        "We can use the model.config.id2label property in order to recover the class name corresponding to the class number."
      ],
      "metadata": {
        "id": "Q9p-loBOxqdr"
      }
    },
    {
      "cell_type": "markdown",
      "source": [
        "**[CLS] stands for classification**. It is added at the beginning because the training tasks here is sentence classification. And because they need an input that can represent the meaning of the entire sentence, they introduce a new tag.<br><br>\n",
        "\n",
        "They can’t take any other word from the input sequence, because the output of that is the word representation. So they add a tag that has no other purpose than being a sentence-level representation for classification."
      ],
      "metadata": {
        "id": "0-Xr1CQ3rClH"
      }
    },
    {
      "cell_type": "markdown",
      "source": [
        "BERT was pretrained using the format [CLS] sen A [SEP] sen B [SEP]. It is necessary for the Next Sentence Prediction task : determining if sen B is a random sentence with no links with A or not."
      ],
      "metadata": {
        "id": "ddn3YQ6Qrky2"
      }
    },
    {
      "cell_type": "code",
      "source": [
        "for token, prediction in zip(tokens, predictions[0].numpy()):\n",
        "    print((token, model.config.id2label[prediction]))"
      ],
      "metadata": {
        "id": "2DP67ldolLyE"
      },
      "execution_count": null,
      "outputs": []
    },
    {
      "cell_type": "markdown",
      "source": [
        "**Summarization**<br>\n",
        "Summarization is the task of summarizing a document or an article into a shorter text.\n",
        "<br>\n",
        "An example of a summarization dataset is the CNN / Daily Mail dataset, which consists of long news articles and was created for the task of summarization. If you would like to fine-tune a model on a summarization task, various approaches are described in this document.<br>\n",
        "\n",
        "\n",
        "\n"
      ],
      "metadata": {
        "id": "MHcDFlddlPMm"
      }
    },
    {
      "cell_type": "markdown",
      "source": [
        "In this example the pipelines do summarization.<br>\n",
        "It leverages a Bart model that was fine-tuned on the CNN / Daily Mail data set."
      ],
      "metadata": {
        "id": "A6zDOgeGyHGw"
      }
    },
    {
      "cell_type": "markdown",
      "source": [
        "**The CNN / DailyMail Dataset** is an English-language dataset containing just over 300k unique news articles as written by journalists at CNN and the Daily Mail. The current version supports both extractive and abstractive summarization.<br><br>\n",
        "\n",
        "The data consists of news articles and highlight sentences. In the question answering setting of the data, the articles are used as the context and entities are hidden one at a time in the highlight sentences.<br><br>\n",
        "This produce Cloze style questions where **the goal of the model is to correctly guess which entity in the context has been hidden in the highlight**. <br><br>\n",
        "In the summarization setting, the highlight sentences are concatenated to form a summary of the article.\n",
        "\n"
      ],
      "metadata": {
        "id": "Ag5FptRYyX4j"
      }
    },
    {
      "cell_type": "code",
      "source": [
        "from transformers import pipeline\n",
        "\n",
        "summarizer = pipeline(\"summarization\")\n",
        "\n",
        "ARTICLE = \"\"\" New York (CNN)When Liana Barrientos was 23 years old, she got married in Westchester County, New York.\n",
        "A year later, she got married again in Westchester County, but to a different man and without divorcing her first husband.\n",
        "Only 18 days after that marriage, she got hitched yet again. Then, Barrientos declared \"I do\" five more times, sometimes only within two weeks of each other.\n",
        "In 2010, she married once more, this time in the Bronx. In an application for a marriage license, she stated it was her \"first and only\" marriage.\n",
        "Barrientos, now 39, is facing two criminal counts of \"offering a false instrument for filing in the first degree,\" referring to her false statements on the\n",
        "2010 marriage license application, according to court documents.\n",
        "Prosecutors said the marriages were part of an immigration scam.\n",
        "On Friday, she pleaded not guilty at State Supreme Court in the Bronx, according to her attorney, Christopher Wright, who declined to comment further.\n",
        "After leaving court, Barrientos was arrested and charged with theft of service and criminal trespass for allegedly sneaking into the New York subway through an emergency exit, said Detective\n",
        "Annette Markowski, a police spokeswoman. In total, Barrientos has been married 10 times, with nine of her marriages occurring between 1999 and 2002.\n",
        "All occurred either in Westchester County, Long Island, New Jersey or the Bronx. She is believed to still be married to four men, and at one time, she was married to eight men at once, prosecutors say.\n",
        "Prosecutors said the immigration scam involved some of her husbands, who filed for permanent residence status shortly after the marriages.\n",
        "Any divorces happened only after such filings were approved. It was unclear whether any of the men will be prosecuted.\n",
        "The case was referred to the Bronx District Attorney\\'s Office by Immigration and Customs Enforcement and the Department of Homeland Security\\'s\n",
        "Investigation Division. Seven of the men are from so-called \"red-flagged\" countries, including Egypt, Turkey, Georgia, Pakistan and Mali.\n",
        "Her eighth husband, Rashid Rajput, was deported in 2006 to his native Pakistan after an investigation by the Joint Terrorism Task Force.\n",
        "If convicted, Barrientos faces up to four years in prison.  Her next court appearance is scheduled for May 18.\n",
        "\"\"\""
      ],
      "metadata": {
        "id": "gpIa6toKlRsH"
      },
      "execution_count": null,
      "outputs": []
    },
    {
      "cell_type": "markdown",
      "source": [
        "Because the summarization pipeline depends on the PreTrainedModel.generate() method, we can override the default arguments of PreTrainedModel.generate() directly in the pipeline for max_length and min_length as shown below.<br>\n",
        "**The output summary:**"
      ],
      "metadata": {
        "id": "VTCL7WfPlWlK"
      }
    },
    {
      "cell_type": "code",
      "source": [
        "print(summarizer(ARTICLE, max_length=130, min_length=30, do_sample=False))"
      ],
      "metadata": {
        "id": "v1Ilq_DhlaMC"
      },
      "execution_count": null,
      "outputs": []
    },
    {
      "cell_type": "markdown",
      "source": [
        "Here is an example of doing summarization using a model and a tokenizer.<br> <br>\n",
        "The process is the following:<br>\n",
        "\n",
        "- Instantiate a tokenizer and a model from the checkpoint name.<br>\n",
        "- Summarization is usually done using an encoder-decoder model, such as Bart or T5.<br>\n",
        "- Define the article that should be summarized.<br>\n",
        "- Add the T5 specific prefix \"summarize: \".\n",
        "- Use the PreTrainedModel.generate() method to generate the summary.\n"
      ],
      "metadata": {
        "id": "1XhvpXvAlWmi"
      }
    },
    {
      "cell_type": "code",
      "source": [
        "from transformers import TFAutoModelForSeq2SeqLM, AutoTokenizer\n",
        "\n",
        "model = TFAutoModelForSeq2SeqLM.from_pretrained(\"t5-base\")\n",
        "tokenizer = AutoTokenizer.from_pretrained(\"t5-base\")\n",
        "\n",
        "# T5 uses a max_length of 512 so we cut the article to 512 tokens.\n",
        "inputs = tokenizer(\"summarize: \" + ARTICLE, return_tensors=\"tf\", max_length=512)\n",
        "outputs = model.generate(\n",
        "    inputs[\"input_ids\"], max_length=150, min_length=40, length_penalty=2.0, num_beams=4, early_stopping=True\n",
        ")\n",
        "\n",
        "print(tokenizer.decode(outputs[0], skip_special_tokens=True))"
      ],
      "metadata": {
        "id": "owSNMDShlrBN"
      },
      "execution_count": null,
      "outputs": []
    }
  ]
}