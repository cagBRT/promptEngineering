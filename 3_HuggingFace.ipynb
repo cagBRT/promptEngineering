{
  "nbformat": 4,
  "nbformat_minor": 0,
  "metadata": {
    "colab": {
      "private_outputs": true,
      "provenance": [],
      "gpuType": "T4",
      "authorship_tag": "ABX9TyPkYMM+D7Z94O32yOdEDm23",
      "include_colab_link": true
    },
    "kernelspec": {
      "name": "python3",
      "display_name": "Python 3"
    },
    "language_info": {
      "name": "python"
    },
    "accelerator": "GPU",
    "gpuClass": "standard"
  },
  "cells": [
    {
      "cell_type": "markdown",
      "metadata": {
        "id": "view-in-github",
        "colab_type": "text"
      },
      "source": [
        "<a href=\"https://colab.research.google.com/github/cagBRT/promptEngineering/blob/main/3_HuggingFace.ipynb\" target=\"_parent\"><img src=\"https://colab.research.google.com/assets/colab-badge.svg\" alt=\"Open In Colab\"/></a>"
      ]
    },
    {
      "cell_type": "code",
      "execution_count": null,
      "metadata": {
        "id": "ixBxGJlesQ-o"
      },
      "outputs": [],
      "source": [
        "# Transformers installation\n",
        "! pip install transformers datasets\n",
        "# To install from source instead of the last release, comment the command above and uncomment the following one.\n",
        "! pip install git+https://github.com/huggingface/transformers.git"
      ]
    },
    {
      "cell_type": "code",
      "source": [
        "!pip install --upgrade accelerate\n",
        "!pip install transformers accelerate"
      ],
      "metadata": {
        "id": "5vd_blS-rDuB"
      },
      "execution_count": null,
      "outputs": []
    },
    {
      "cell_type": "markdown",
      "source": [
        "# Fine-tune a pretrained model\n",
        "There are significant benefits to using a pretrained model:\n",
        " It reduces :\n",
        " - computation costs \n",
        " - your carbon footprint\n",
        " - allows you to use state-of-the-art models without having to train one from scratch. <br>\n",
        "\n",
        "HuggingFace Transformers provide access to thousands of pretrained models for a wide range of tasks. <br>\n",
        "\n"
      ],
      "metadata": {
        "id": "kwfkYYcpsuke"
      }
    },
    {
      "cell_type": "markdown",
      "source": [
        "**When you use a pretrained model, you train it on a dataset specific to your task**. \n",
        "This is known as fine-tuning, an incredibly powerful training technique. <br>\n",
        "\n",
        "In this tutorial, you will fine-tune a pretrained model with a deep learning framework of your choice:\n",
        "\n",
        "- Fine-tune a pretrained model with HuggingFace Transformers Trainer.<br>\n",
        "- Fine-tune a pretrained model in TensorFlow with Keras.<br>\n",
        "- Fine-tune a pretrained model in native PyTorch.<br>"
      ],
      "metadata": {
        "id": "Rv0JVDOOo6vs"
      }
    },
    {
      "cell_type": "markdown",
      "source": [
        "Before you can fine-tune a pretrained model, **download a dataset and prepare it for training**. \n",
        "\n",
        "Begin by loading the Yelp Reviews dataset:"
      ],
      "metadata": {
        "id": "vY74uByTs98e"
      }
    },
    {
      "cell_type": "code",
      "source": [
        "from datasets import load_dataset\n",
        "\n",
        "dataset = load_dataset(\"yelp_review_full\")"
      ],
      "metadata": {
        "id": "R2DaP3XytAUE"
      },
      "execution_count": null,
      "outputs": []
    },
    {
      "cell_type": "markdown",
      "source": [
        "**An example of one of the Yelp reviews**"
      ],
      "metadata": {
        "id": "otgq3hpxoTR8"
      }
    },
    {
      "cell_type": "code",
      "source": [
        "dataset[\"train\"][100]"
      ],
      "metadata": {
        "id": "VVsLgrPSoThj"
      },
      "execution_count": null,
      "outputs": []
    },
    {
      "cell_type": "markdown",
      "source": [
        "**Tokenize the Yelp dataset**"
      ],
      "metadata": {
        "id": "xW0Dd4O6pR19"
      }
    },
    {
      "cell_type": "code",
      "source": [
        "from transformers import AutoTokenizer\n",
        "\n",
        "tokenizer = AutoTokenizer.from_pretrained(\"bert-base-cased\")\n",
        "\n",
        "def tokenize_function(examples):\n",
        "    return tokenizer(examples[\"text\"], padding=\"max_length\", truncation=True)\n",
        "\n",
        "tokenized_datasets = dataset.map(tokenize_function, batched=True)"
      ],
      "metadata": {
        "id": "f45RzkmVtJ6L"
      },
      "execution_count": null,
      "outputs": []
    },
    {
      "cell_type": "markdown",
      "source": [
        "If you like, you can create a smaller subset of the full dataset to fine-tune on to reduce the time it takes:"
      ],
      "metadata": {
        "id": "65uadiG-tMRO"
      }
    },
    {
      "cell_type": "code",
      "source": [
        "small_train_dataset = tokenized_datasets[\"train\"].shuffle(seed=42).select(range(1000))\n",
        "small_eval_dataset = tokenized_datasets[\"test\"].shuffle(seed=42).select(range(1000))"
      ],
      "metadata": {
        "id": "kHnRQya9tOZ9"
      },
      "execution_count": null,
      "outputs": []
    },
    {
      "cell_type": "markdown",
      "source": [
        "# Train"
      ],
      "metadata": {
        "id": "CwqHw0pHtffU"
      }
    },
    {
      "cell_type": "markdown",
      "source": [
        "HuggingFace Transformers provides a Trainer class optimized for training HuggingFace Transformers models, making it easier to start training without manually writing your own training loop. <br>\n",
        "\n",
        "The Trainer API supports a range of training options and features such as logging, gradient accumulation, and mixed precision.<br>\n",
        "\n",
        "\n",
        "\n"
      ],
      "metadata": {
        "id": "KAr_4HyHtjLS"
      }
    },
    {
      "cell_type": "markdown",
      "source": [
        "Start by loading your model and specify the number of expected labels. From the Yelp Review dataset card, you know there are five labels (5 stars):"
      ],
      "metadata": {
        "id": "ruD1SU--oC4W"
      }
    },
    {
      "cell_type": "code",
      "source": [
        "from transformers import AutoModelForSequenceClassification\n",
        "\n",
        "model = AutoModelForSequenceClassification.from_pretrained(\"bert-base-cased\", num_labels=5)"
      ],
      "metadata": {
        "id": "CRCspH3wtkRG"
      },
      "execution_count": null,
      "outputs": []
    },
    {
      "cell_type": "markdown",
      "source": [
        "You will see a warning about some of the pretrained weights not being used and some weights being randomly initialized. Don't worry, this is completely normal! The pretrained head of the BERT model is discarded, and replaced with a randomly initialized classification head. You will fine-tune this new model head on your sequence classification task, transferring the knowledge of the pretrained model to it."
      ],
      "metadata": {
        "id": "r_8C--7_tn8f"
      }
    },
    {
      "cell_type": "markdown",
      "source": [
        "**Create a TrainingArguments class** which contains all the hyperparameters you can tune as well as flags for activating different training options. <br>\n",
        "\n",
        "For this tutorial you can start with the default training hyperparameters, but feel free to experiment with these to find your optimal settings.\n",
        "\n",
        "Specify where to save the checkpoints from your training:"
      ],
      "metadata": {
        "id": "b7fWIQ1ytqQ-"
      }
    },
    {
      "cell_type": "code",
      "source": [
        "!pip install git+https://github.com/huggingface/accelerate"
      ],
      "metadata": {
        "id": "eiCu_SrVsGGo"
      },
      "execution_count": null,
      "outputs": []
    },
    {
      "cell_type": "code",
      "source": [
        "from transformers import TrainingArguments\n",
        "\n",
        "training_args = TrainingArguments(output_dir=\"test_trainer\")"
      ],
      "metadata": {
        "id": "7G5ev0y2tq8O"
      },
      "execution_count": null,
      "outputs": []
    },
    {
      "cell_type": "markdown",
      "source": [
        "# Metrics\n",
        "Trainer does not automatically evaluate model performance during training. <br>\n",
        "You will need to pass Trainer a function to compute and report metrics. \n",
        "\n",
        "The HuggingFace Datasets library provides a simple accuracy function you can load with the load_metric function:"
      ],
      "metadata": {
        "id": "Jq7u-LPqttre"
      }
    },
    {
      "cell_type": "code",
      "source": [
        "import numpy as np\n",
        "from datasets import load_metric\n",
        "\n",
        "metric = load_metric(\"accuracy\")"
      ],
      "metadata": {
        "id": "-1mHbVqktwOP"
      },
      "execution_count": null,
      "outputs": []
    },
    {
      "cell_type": "markdown",
      "source": [
        "**Call compute on metric to calculate the accuracy of your predictions**. <br>\n",
        "\n",
        "Before passing your predictions to compute, you need to convert the predictions to logits (remember all HuggingFace Transformers models return logits):<br>\n",
        "<br>\n",
        "\n",
        "A Logit function, also known as the log-odds function, is a function that represents probability values from 0 to 1, and negative infinity to infinity. \n"
      ],
      "metadata": {
        "id": "RRRVsfl-tyh7"
      }
    },
    {
      "cell_type": "code",
      "source": [
        "def compute_metrics(eval_pred):\n",
        "    logits, labels = eval_pred\n",
        "    predictions = np.argmax(logits, axis=-1)\n",
        "    return metric.compute(predictions=predictions, references=labels)"
      ],
      "metadata": {
        "id": "P9mZr0Xrt2x3"
      },
      "execution_count": null,
      "outputs": []
    },
    {
      "cell_type": "markdown",
      "source": [
        "If you'd like to monitor your evaluation metrics during fine-tuning,<br>\n",
        "\n",
        ">specify the evaluation_strategy parameter in your training arguments to report the evaluation metric at the end of each epoch:\n",
        "\n"
      ],
      "metadata": {
        "id": "uqQPFYr1t6H6"
      }
    },
    {
      "cell_type": "code",
      "source": [
        "from transformers import TrainingArguments, Trainer\n",
        "\n",
        "training_args = TrainingArguments(output_dir=\"test_trainer\", evaluation_strategy=\"epoch\")"
      ],
      "metadata": {
        "id": "aHTOXUuat782"
      },
      "execution_count": null,
      "outputs": []
    },
    {
      "cell_type": "markdown",
      "source": [
        "**Trainer**<br>\n",
        "Create a Trainer object with your model, training arguments, training and test datasets, and evaluation function:\n",
        "\n"
      ],
      "metadata": {
        "id": "-0swddmHt-f7"
      }
    },
    {
      "cell_type": "code",
      "source": [
        "trainer = Trainer(\n",
        "    model=model,\n",
        "    args=training_args,\n",
        "    train_dataset=small_train_dataset,\n",
        "    eval_dataset=small_eval_dataset,\n",
        "    compute_metrics=compute_metrics,\n",
        ")"
      ],
      "metadata": {
        "id": "JSuqrxYYuAg0"
      },
      "execution_count": null,
      "outputs": []
    },
    {
      "cell_type": "markdown",
      "source": [
        "Then fine-tune your model by calling train():\n",
        "\n"
      ],
      "metadata": {
        "id": "gTeup_RhuCmv"
      }
    },
    {
      "cell_type": "code",
      "source": [
        "trainer.train()\n"
      ],
      "metadata": {
        "id": "W7-zuJZwuESy"
      },
      "execution_count": null,
      "outputs": []
    },
    {
      "cell_type": "code",
      "source": [
        "trainer.save_model(\"trainer_saved\")"
      ],
      "metadata": {
        "id": "1gLSuJ668kIu"
      },
      "execution_count": null,
      "outputs": []
    },
    {
      "cell_type": "markdown",
      "source": [
        "HuggingFace Transformers models also supports training in TensorFlow with the Keras API."
      ],
      "metadata": {
        "id": "gww94v8DuGsr"
      }
    },
    {
      "cell_type": "markdown",
      "source": [
        "# Convert dataset to TensorFlow format\n"
      ],
      "metadata": {
        "id": "EBaYLfKfuLGx"
      }
    },
    {
      "cell_type": "markdown",
      "source": [
        "The DefaultDataCollator assembles tensors into a batch for the model to train on. Make sure you specify return_tensors to return TensorFlow tensors:"
      ],
      "metadata": {
        "id": "ib7VBfi6uNSF"
      }
    },
    {
      "cell_type": "code",
      "source": [
        "from transformers import DefaultDataCollator\n",
        "\n",
        "data_collator = DefaultDataCollator(return_tensors=\"tf\")"
      ],
      "metadata": {
        "id": "rVv4FjoyuO_O"
      },
      "execution_count": null,
      "outputs": []
    },
    {
      "cell_type": "markdown",
      "source": [
        "Trainer uses DataCollatorWithPadding by default so you don't need to explicitly specify a data collator.\n"
      ],
      "metadata": {
        "id": "WL2Orn96uQo_"
      }
    },
    {
      "cell_type": "markdown",
      "source": [
        "**Convert the tokenized datasets to TensorFlow datasets** with the to_tf_dataset method. Specify your inputs in columns, and your label in label_cols:"
      ],
      "metadata": {
        "id": "5BOWN7g7rsn-"
      }
    },
    {
      "cell_type": "code",
      "source": [
        "tf_train_dataset = small_train_dataset.to_tf_dataset(\n",
        "    columns=[\"attention_mask\", \"input_ids\", \"token_type_ids\"],\n",
        "    label_cols=[\"labels\"],\n",
        "    shuffle=True,\n",
        "    collate_fn=data_collator,\n",
        "    batch_size=8,\n",
        ")\n",
        "\n",
        "tf_validation_dataset = small_eval_dataset.to_tf_dataset(\n",
        "    columns=[\"attention_mask\", \"input_ids\", \"token_type_ids\"],\n",
        "    label_cols=[\"labels\"],\n",
        "    shuffle=False,\n",
        "    collate_fn=data_collator,\n",
        "    batch_size=8,\n",
        ")"
      ],
      "metadata": {
        "id": "3DnJaj2HuSeb"
      },
      "execution_count": null,
      "outputs": []
    },
    {
      "cell_type": "markdown",
      "source": [
        "# Compile and fit\n",
        "Load a TensorFlow model with the expected number of labels:\n",
        "\n"
      ],
      "metadata": {
        "id": "midGENIvuUUp"
      }
    },
    {
      "cell_type": "code",
      "source": [
        "import tensorflow as tf\n",
        "from transformers import TFAutoModelForSequenceClassification\n",
        "\n",
        "model = TFAutoModelForSequenceClassification.from_pretrained\n",
        "        (\"bert-base-cased\", num_labels=5)"
      ],
      "metadata": {
        "id": "SM_LwmQnuW9L"
      },
      "execution_count": null,
      "outputs": []
    },
    {
      "cell_type": "markdown",
      "source": [
        "Then compile and fine-tune your model with fit as you would with any other Keras model:"
      ],
      "metadata": {
        "id": "11uY_zEauYvP"
      }
    },
    {
      "cell_type": "code",
      "source": [
        "model.compile(\n",
        "    optimizer=tf.keras.optimizers.Adam(learning_rate=5e-5),\n",
        "    loss=tf.keras.losses.SparseCategoricalCrossentropy(from_logits=True),\n",
        "    metrics=tf.metrics.SparseCategoricalAccuracy(),\n",
        ")\n",
        "\n",
        "model.fit(tf_train_dataset, validation_data=tf_validation_dataset, epochs=3)"
      ],
      "metadata": {
        "id": "IyJBj4Utuakt"
      },
      "execution_count": null,
      "outputs": []
    },
    {
      "cell_type": "markdown",
      "source": [
        "# Train in native PyTorch\n"
      ],
      "metadata": {
        "id": "ODkaq0MQuq4D"
      }
    },
    {
      "cell_type": "markdown",
      "source": [
        "Trainer takes care of the training loop and allows you to fine-tune a model in a single line of code. \n",
        "\n",
        "For users who prefer to write their own training loop, you can also fine-tune a HuggingFace Transformers model in native PyTorch.\n",
        "\n",
        "At this point, you may need to restart your notebook or execute the following code to free some memory:"
      ],
      "metadata": {
        "id": "l2pSlhZvut8b"
      }
    },
    {
      "cell_type": "code",
      "source": [
        "del model\n",
        "del pytorch_model\n",
        "del trainer\n",
        "torch.cuda.empty_cache()"
      ],
      "metadata": {
        "id": "8_7R1P9juzNM"
      },
      "execution_count": null,
      "outputs": []
    },
    {
      "cell_type": "markdown",
      "source": [
        "Next, manually postprocess tokenized_dataset to prepare it for training.\n",
        "\n",
        "Remove the text column because the model does not accept raw text as an input:\n",
        "\n",
        ">>> tokenized_datasets = tokenized_datasets.remove_columns([\"text\"])\n",
        "Rename the label column to labels because the model expects the argument to be named labels:\n",
        "\n",
        ">>> tokenized_datasets = tokenized_datasets.rename_column(\"label\", \"labels\")\n",
        "Set the format of the dataset to return PyTorch tensors instead of lists:\n",
        "\n",
        ">>> tokenized_datasets.set_format(\"torch\")\n",
        "Then create a smaller subset of the dataset as previously shown to speed up the fine-tuning:"
      ],
      "metadata": {
        "id": "5XNYeAFuu2MG"
      }
    },
    {
      "cell_type": "code",
      "source": [
        "small_train_dataset = tokenized_datasets[\"train\"].shuffle(seed=42).select(range(1000))\n",
        "small_eval_dataset = tokenized_datasets[\"test\"].shuffle(seed=42).select(range(1000))\n",
        "     "
      ],
      "metadata": {
        "id": "tzWM3Noru3eY"
      },
      "execution_count": null,
      "outputs": []
    },
    {
      "cell_type": "markdown",
      "source": [
        "# DataLoader\n",
        "Create a DataLoader for your training and test datasets so you can iterate over batches of data:"
      ],
      "metadata": {
        "id": "G5wQFl3dvBjQ"
      }
    },
    {
      "cell_type": "code",
      "source": [
        "\n",
        "from torch.utils.data import DataLoader\n",
        "\n",
        "train_dataloader = DataLoader(small_train_dataset, shuffle=True, batch_size=8)\n",
        "eval_dataloader = DataLoader(small_eval_dataset, batch_size=8)\n"
      ],
      "metadata": {
        "id": "KuZ58osGvDPU"
      },
      "execution_count": null,
      "outputs": []
    },
    {
      "cell_type": "markdown",
      "source": [
        "Load your model with the number of expected labels:"
      ],
      "metadata": {
        "id": "H_I2-WzkvGHN"
      }
    },
    {
      "cell_type": "code",
      "source": [
        "from transformers import AutoModelForSequenceClassification\n",
        "\n",
        "model = AutoModelForSequenceClassification.from_pretrained(\"bert-base-cased\", num_labels=5)"
      ],
      "metadata": {
        "id": "SyZFUy-TvH_0"
      },
      "execution_count": null,
      "outputs": []
    },
    {
      "cell_type": "markdown",
      "source": [
        "# Optimizer and learning rate scheduler\n",
        "Create an optimizer and learning rate scheduler to fine-tune the model. Let's use the AdamW optimizer from PyTorch:"
      ],
      "metadata": {
        "id": "aicw9-O7vKsf"
      }
    },
    {
      "cell_type": "code",
      "source": [
        "from torch.optim import AdamW\n",
        "\n",
        "optimizer = AdamW(model.parameters(), lr=5e-5)"
      ],
      "metadata": {
        "id": "-7E6pUe3vNlJ"
      },
      "execution_count": null,
      "outputs": []
    },
    {
      "cell_type": "markdown",
      "source": [
        "Create the default learning rate scheduler from Trainer:"
      ],
      "metadata": {
        "id": "25fP73ZNvPgV"
      }
    },
    {
      "cell_type": "code",
      "source": [
        "\n",
        "from transformers import get_scheduler\n",
        "\n",
        "num_epochs = 3\n",
        "num_training_steps = num_epochs * len(train_dataloader)\n",
        "lr_scheduler = get_scheduler(\n",
        "    name=\"linear\", optimizer=optimizer, num_warmup_steps=0, num_training_steps=num_training_steps\n",
        ")"
      ],
      "metadata": {
        "id": "qLpaHsGXvRIg"
      },
      "execution_count": null,
      "outputs": []
    },
    {
      "cell_type": "markdown",
      "source": [
        "Lastly, specify device to use a GPU if you have access to one. Otherwise, training on a CPU may take several hours instead of a couple of minutes.\n",
        "\n"
      ],
      "metadata": {
        "id": "zwpYOUubvTqw"
      }
    },
    {
      "cell_type": "code",
      "source": [
        "import torch\n",
        "\n",
        "device = torch.device(\"cuda\") if torch.cuda.is_available() else torch.device(\"cpu\")\n",
        "model.to(device)"
      ],
      "metadata": {
        "id": "xdhTMY0tvVYs"
      },
      "execution_count": null,
      "outputs": []
    },
    {
      "cell_type": "markdown",
      "source": [
        "Get free access to a cloud GPU if you don't have one with a hosted notebook like Colaboratory or SageMaker StudioLab.\n",
        "\n",
        "Great, now you are ready to train! 🥳\n",
        "\n"
      ],
      "metadata": {
        "id": "1Vz-AZY6vZPl"
      }
    },
    {
      "cell_type": "markdown",
      "source": [
        "# Training loop\n",
        "To keep track of your training progress, use the tqdm library to add a progress bar over the number of training steps:"
      ],
      "metadata": {
        "id": "3YkBk1dwvaR-"
      }
    },
    {
      "cell_type": "code",
      "source": [
        "\n",
        "from tqdm.auto import tqdm\n",
        "\n",
        "progress_bar = tqdm(range(num_training_steps))\n",
        "\n",
        "model.train()\n",
        "for epoch in range(num_epochs):\n",
        "    for batch in train_dataloader:\n",
        "        batch = {k: v.to(device) for k, v in batch.items()}\n",
        "        outputs = model(**batch)\n",
        "        loss = outputs.loss\n",
        "        loss.backward()\n",
        "\n",
        "        optimizer.step()\n",
        "        lr_scheduler.step()\n",
        "        optimizer.zero_grad()\n",
        "        progress_bar.update(1)"
      ],
      "metadata": {
        "id": "ztGM7MPlvfcx"
      },
      "execution_count": null,
      "outputs": []
    },
    {
      "cell_type": "markdown",
      "source": [
        "# Metrics\n",
        "Just like how you need to add an evaluation function to Trainer, you need to do the same when you write your own training loop. But instead of calculating and reporting the metric at the end of each epoch, this time you will accumulate all the batches with add_batch and calculate the metric at the very end."
      ],
      "metadata": {
        "id": "lPUHwAM8vk11"
      }
    },
    {
      "cell_type": "code",
      "source": [
        "metric = load_metric(\"accuracy\")\n",
        "model.eval()\n",
        "for batch in eval_dataloader:\n",
        "    batch = {k: v.to(device) for k, v in batch.items()}\n",
        "    with torch.no_grad():\n",
        "        outputs = model(**batch)\n",
        "\n",
        "    logits = outputs.logits\n",
        "    predictions = torch.argmax(logits, dim=-1)\n",
        "    metric.add_batch(predictions=predictions, references=batch[\"labels\"])\n",
        "\n",
        "metric.compute()"
      ],
      "metadata": {
        "id": "McxlxkD7vm5n"
      },
      "execution_count": null,
      "outputs": []
    }
  ]
}