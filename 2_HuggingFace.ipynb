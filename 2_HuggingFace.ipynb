{
  "nbformat": 4,
  "nbformat_minor": 0,
  "metadata": {
    "colab": {
      "private_outputs": true,
      "provenance": [],
      "authorship_tag": "ABX9TyMZ5oIwJIURWpyKt5br8hkf",
      "include_colab_link": true
    },
    "kernelspec": {
      "name": "python3",
      "display_name": "Python 3"
    },
    "language_info": {
      "name": "python"
    }
  },
  "cells": [
    {
      "cell_type": "markdown",
      "metadata": {
        "id": "view-in-github",
        "colab_type": "text"
      },
      "source": [
        "<a href=\"https://colab.research.google.com/github/cagBRT/promptEngineering/blob/main/2_HuggingFace.ipynb\" target=\"_parent\"><img src=\"https://colab.research.google.com/assets/colab-badge.svg\" alt=\"Open In Colab\"/></a>"
      ]
    },
    {
      "cell_type": "code",
      "execution_count": null,
      "metadata": {
        "id": "rl1Va9N0Akml"
      },
      "outputs": [],
      "source": [
        "\n",
        "# Transformers installation\n",
        "! pip install transformers datasets\n",
        "# To install from source instead of the last release, comment the command above and uncomment the following one.\n",
        "# ! pip install git+https://github.com/huggingface/transformers.git\n",
        "     "
      ]
    },
    {
      "cell_type": "markdown",
      "source": [
        "# Preprocess\n",
        "Before you can use your data in a model, the data needs to be processed into an acceptable format for the model. A model does not understand raw text, images or audio. These inputs need to be converted into numbers and assembled into tensors. In this tutorial, you will:\n",
        "\n",
        ">Preprocess textual data with a tokenizer.<br>\n",
        "Preprocess image or audio data with a feature extractor.<br>\n",
        "Preprocess data for a multimodal task with a processor.<br>"
      ],
      "metadata": {
        "id": "eSahQsoNAueb"
      }
    },
    {
      "cell_type": "markdown",
      "source": [],
      "metadata": {
        "id": "-sHtOWmRA4CV"
      }
    },
    {
      "cell_type": "markdown",
      "source": [
        "# NLP"
      ],
      "metadata": {
        "id": "1dXn2lkpA4ES"
      }
    },
    {
      "cell_type": "code",
      "source": [
        "#@title\n",
        "from IPython.display import HTML\n",
        "\n",
        "HTML('')\n"
      ],
      "metadata": {
        "id": "8jjWhekeA5aP"
      },
      "execution_count": null,
      "outputs": []
    },
    {
      "cell_type": "markdown",
      "source": [
        "The main tool for processing textual data is a tokenizer. A tokenizer starts by splitting text into tokens according to a set of rules. The tokens are converted into numbers, which are used to build tensors as input to a model. Any additional inputs required by a model are also added by the tokenizer.\n",
        "\n",
        "If you plan on using a pretrained model, it's important to use the associated pretrained tokenizer. This ensures the text is split the same way as the pretraining corpus, and uses the same corresponding tokens-to-index (usually referrred to as the vocab) during pretraining.\n",
        "\n",
        "Get started quickly by loading a pretrained tokenizer with the AutoTokenizer class. This downloads the vocab used when a model is pretrained.\n",
        "\n"
      ],
      "metadata": {
        "id": "L86Hez5rA-kP"
      }
    },
    {
      "cell_type": "markdown",
      "source": [
        "# Tokenize\n",
        "Load a pretrained tokenizer with AutoTokenizer.from_pretrained():"
      ],
      "metadata": {
        "id": "C-rf2dLHBAIc"
      }
    },
    {
      "cell_type": "code",
      "source": [
        "from transformers import AutoTokenizer\n",
        "\n",
        "tokenizer = AutoTokenizer.from_pretrained(\"bert-base-cased\")"
      ],
      "metadata": {
        "id": "br6Dw5lVBGDa"
      },
      "execution_count": null,
      "outputs": []
    },
    {
      "cell_type": "markdown",
      "source": [
        "Then pass your sentence to the tokenizer:"
      ],
      "metadata": {
        "id": "kXERRI3aBKm5"
      }
    },
    {
      "cell_type": "code",
      "source": [
        "encoded_input = tokenizer(\"Do not meddle in the affairs of wizards, for they are subtle and quick to anger.\")\n",
        "print(encoded_input)\n"
      ],
      "metadata": {
        "id": "YXGkWVA-BLK0"
      },
      "execution_count": null,
      "outputs": []
    },
    {
      "cell_type": "markdown",
      "source": [
        "The tokenizer returns a dictionary with three important itmes:\n",
        "\n",
        "input_ids are the indices corresponding to each token in the sentence.\n",
        "attention_mask indicates whether a token should be attended to or not.\n",
        "token_type_ids identifies which sequence a token belongs to when there is more than one sequence.\n",
        "You can decode the input_ids to return the original input:"
      ],
      "metadata": {
        "id": "PTffKIBoBQhF"
      }
    },
    {
      "cell_type": "code",
      "source": [
        "tokenizer.decode(encoded_input[\"input_ids\"])"
      ],
      "metadata": {
        "id": "fqP0oQy5BP2Y"
      },
      "execution_count": null,
      "outputs": []
    },
    {
      "cell_type": "markdown",
      "source": [
        "As you can see, the tokenizer added two special tokens - CLS and SEP (classifier and separator) - to the sentence. Not all models need special tokens, but if they do, the tokenizer will automatically add them for you.\n",
        "\n",
        "If there are several sentences you want to process, pass the sentences as a list to the tokenizer:"
      ],
      "metadata": {
        "id": "jWapsYxPBZIb"
      }
    },
    {
      "cell_type": "code",
      "source": [
        "batch_sentences = [\n",
        "    \"But what about second breakfast?\",\n",
        "    \"Don't think he knows about second breakfast, Pip.\",\n",
        "    \"What about elevensies?\",\n",
        "]\n",
        "encoded_inputs = tokenizer(batch_sentences)\n",
        "print(encoded_inputs)\n"
      ],
      "metadata": {
        "id": "ph8i84f7BZ3m"
      },
      "execution_count": null,
      "outputs": []
    },
    {
      "cell_type": "markdown",
      "source": [
        "Pad\n",
        "This brings us to an important topic. When you process a batch of sentences, they aren't always the same length. This is a problem because tensors, the input to the model, need to have a uniform shape. Padding is a strategy for ensuring tensors are rectangular by adding a special padding token to sentences with fewer tokens.\n",
        "\n",
        "Set the padding parameter to True to pad the shorter sequences in the batch to match the longest sequence:"
      ],
      "metadata": {
        "id": "E34drX5oBfWY"
      }
    },
    {
      "cell_type": "code",
      "source": [
        "\n",
        "batch_sentences = [\n",
        "    \"But what about second breakfast?\",\n",
        "    \"Don't think he knows about second breakfast, Pip.\",\n",
        "    \"What about elevensies?\",\n",
        "]\n",
        "encoded_input = tokenizer(batch_sentences, padding=True)\n",
        "print(encoded_input)"
      ],
      "metadata": {
        "id": "IoT8kyVFBgIY"
      },
      "execution_count": null,
      "outputs": []
    },
    {
      "cell_type": "markdown",
      "source": [
        "Truncation\n",
        "On the other end of the spectrum, sometimes a sequence may be too long for a model to handle. In this case, you will need to truncate the sequence to a shorter length.\n",
        "\n",
        "Set the truncation parameter to True to truncate a sequence to the maximum length accepted by the model:"
      ],
      "metadata": {
        "id": "o4TsyJdGBy8y"
      }
    },
    {
      "cell_type": "code",
      "source": [
        "\n",
        "batch_sentences = [\n",
        "    \"But what about second breakfast?\",\n",
        "    \"Don't think he knows about second breakfast, Pip.\",\n",
        "    \"What about elevensies?\",\n",
        "]\n",
        "encoded_input = tokenizer(batch_sentences, padding=True, truncation=True)\n",
        "print(encoded_input)"
      ],
      "metadata": {
        "id": "usWUFfw7Bzx1"
      },
      "execution_count": null,
      "outputs": []
    },
    {
      "cell_type": "markdown",
      "source": [
        "Build tensors\n",
        "Finally, you want the tokenizer to return the actual tensors that are fed to the model.\n",
        "\n",
        "Set the return_tensors parameter to either pt for PyTorch, or tf for TensorFlow:\n",
        "\n"
      ],
      "metadata": {
        "id": "KTp3Mli8B3zJ"
      }
    },
    {
      "cell_type": "code",
      "source": [
        "batch_sentences = [\n",
        "    \"But what about second breakfast?\",\n",
        "    \"Don't think he knows about second breakfast, Pip.\",\n",
        "    \"What about elevensies?\",\n",
        "]\n",
        "encoded_input = tokenizer(batch_sentences, padding=True, truncation=True, return_tensors=\"pt\")\n",
        "print(encoded_input)\n"
      ],
      "metadata": {
        "id": "m-kDI0-qB4kt"
      },
      "execution_count": null,
      "outputs": []
    },
    {
      "cell_type": "code",
      "source": [
        "batch_sentences = [\n",
        "    \"But what about second breakfast?\",\n",
        "    \"Don't think he knows about second breakfast, Pip.\",\n",
        "    \"What about elevensies?\",\n",
        "]\n",
        "encoded_input = tokenizer(batch_sentences, padding=True, truncation=True, return_tensors=\"tf\")\n",
        "print(encoded_input)\n"
      ],
      "metadata": {
        "id": "pFXxbYEJCEX7"
      },
      "execution_count": null,
      "outputs": []
    },
    {
      "cell_type": "markdown",
      "source": [
        "Audio\n",
        "Audio inputs are preprocessed differently than textual inputs, but the end goal remains the same: create numerical sequences the model can understand. A feature extractor is designed for the express purpose of extracting features from raw image or audio data and converting them into tensors. Before you begin, install 🤗 Datasets to load an audio dataset to experiment with:\n",
        "\n",
        "pip install datasets\n",
        "Load the MInDS-14 dataset (see the 🤗 Datasets tutorial for more details on how to load a dataset):"
      ],
      "metadata": {
        "id": "ks_av5GwCMPo"
      }
    },
    {
      "cell_type": "code",
      "source": [
        "from datasets import load_dataset, Audio\n",
        "\n",
        "dataset = load_dataset(\"PolyAI/minds14\", name=\"en-US\", split=\"train\")\n"
      ],
      "metadata": {
        "id": "9Es50oHoCM88"
      },
      "execution_count": null,
      "outputs": []
    },
    {
      "cell_type": "markdown",
      "source": [
        "Access the first element of the audio column to take a look at the input. Calling the audio column will automatically load and resample the audio file:\n",
        "\n"
      ],
      "metadata": {
        "id": "cptN5mJ_CS1y"
      }
    },
    {
      "cell_type": "code",
      "source": [
        "dataset[0][\"audio\"]"
      ],
      "metadata": {
        "id": "PFjPfMdUCoXZ"
      },
      "execution_count": null,
      "outputs": []
    },
    {
      "cell_type": "markdown",
      "source": [
        "This returns three items:\n",
        "\n",
        "array is the speech signal loaded - and potentially resampled - as a 1D array.\n",
        "path points to the location of the audio file.\n",
        "sampling_rate refers to how many data points in the speech signal are measured per second."
      ],
      "metadata": {
        "id": "6Ytuk6ABCr8l"
      }
    },
    {
      "cell_type": "markdown",
      "source": [
        "Use 🤗 Datasets' cast_column method to upsample the sampling rate to 16kHz:"
      ],
      "metadata": {
        "id": "J0K38OizC0DX"
      }
    },
    {
      "cell_type": "code",
      "source": [
        "dataset = dataset.cast_column(\"audio\", Audio(sampling_rate=16_000))"
      ],
      "metadata": {
        "id": "e9rzhs8SCwi5"
      },
      "execution_count": null,
      "outputs": []
    },
    {
      "cell_type": "markdown",
      "source": [
        "Load the audio file:\n"
      ],
      "metadata": {
        "id": "WE358onEC0-v"
      }
    },
    {
      "cell_type": "code",
      "source": [
        "dataset[0][\"audio\"]"
      ],
      "metadata": {
        "id": "qTYJAgdiC1Rj"
      },
      "execution_count": null,
      "outputs": []
    },
    {
      "cell_type": "markdown",
      "source": [
        "As you can see, the sampling_rate is now 16kHz!"
      ],
      "metadata": {
        "id": "Ze4wXptODHk8"
      }
    },
    {
      "cell_type": "markdown",
      "source": [
        "Feature extractor\n",
        "The next step is to load a feature extractor to normalize and pad the input. When padding textual data, a 0 is added for shorter sequences. The same idea applies to audio data, and the audio feature extractor will add a 0 - interpreted as silence - to array.\n",
        "\n",
        "Load the feature extractor with AutoFeatureExtractor.from_pretrained():"
      ],
      "metadata": {
        "id": "8SXnuPrCDJMY"
      }
    },
    {
      "cell_type": "code",
      "source": [
        "from transformers import AutoFeatureExtractor\n",
        "\n",
        "feature_extractor = AutoFeatureExtractor.from_pretrained(\"facebook/wav2vec2-base\")\n"
      ],
      "metadata": {
        "id": "KEQlGpuoDJ1P"
      },
      "execution_count": null,
      "outputs": []
    },
    {
      "cell_type": "markdown",
      "source": [
        "Pass the audio array to the feature extractor. We also recommend adding the sampling_rate argument in the feature extractor in order to better debug any silent errors that may occur.\n",
        "\n"
      ],
      "metadata": {
        "id": "wiLJG0goDO8p"
      }
    },
    {
      "cell_type": "code",
      "source": [
        "audio_input = [dataset[0][\"audio\"][\"array\"]]\n",
        "feature_extractor(audio_input, sampling_rate=16000)\n"
      ],
      "metadata": {
        "id": "4LRH_f5oDP4j"
      },
      "execution_count": null,
      "outputs": []
    },
    {
      "cell_type": "markdown",
      "source": [
        "# Pad and truncate\n",
        "Just like the tokenizer, you can apply padding or truncation to handle variable sequences in a batch. Take a look at the sequence length of these two audio samples:\n",
        "\n"
      ],
      "metadata": {
        "id": "7pGZMWFVDTnX"
      }
    },
    {
      "cell_type": "code",
      "source": [
        "dataset[0][\"audio\"][\"array\"].shape\n"
      ],
      "metadata": {
        "id": "ICKadJcZDYKi"
      },
      "execution_count": null,
      "outputs": []
    },
    {
      "cell_type": "code",
      "source": [
        "dataset[1][\"audio\"][\"array\"].shape\n"
      ],
      "metadata": {
        "id": "HnU5zU1BDbct"
      },
      "execution_count": null,
      "outputs": []
    },
    {
      "cell_type": "markdown",
      "source": [
        "As you can see, the first sample has a longer sequence than the second sample. Let's create a function that will preprocess the dataset. Specify a maximum sample length, and the feature extractor will either pad or truncate the sequences to match it:"
      ],
      "metadata": {
        "id": "QGIGxHWNDXRx"
      }
    },
    {
      "cell_type": "code",
      "source": [
        "\n",
        "def preprocess_function(examples):\n",
        "    audio_arrays = [x[\"array\"] for x in examples[\"audio\"]]\n",
        "    inputs = feature_extractor(\n",
        "        audio_arrays,\n",
        "        sampling_rate=16000,\n",
        "        padding=True,\n",
        "        max_length=100000,\n",
        "        truncation=True,\n",
        "    )\n",
        "    return inputs"
      ],
      "metadata": {
        "id": "bv4Aepg7De1p"
      },
      "execution_count": null,
      "outputs": []
    },
    {
      "cell_type": "markdown",
      "source": [
        "Apply the function to the the first few examples in the dataset:\n",
        "\n"
      ],
      "metadata": {
        "id": "w3gy39shDiRR"
      }
    },
    {
      "cell_type": "code",
      "source": [
        "processed_dataset = preprocess_function(dataset[:5])"
      ],
      "metadata": {
        "id": "oatXFp9kDjNH"
      },
      "execution_count": null,
      "outputs": []
    },
    {
      "cell_type": "markdown",
      "source": [
        "Now take another look at the processed sample lengths:"
      ],
      "metadata": {
        "id": "g7zbEs2GDoEF"
      }
    },
    {
      "cell_type": "code",
      "source": [
        "\n",
        "processed_dataset[\"input_values\"][0].shape\n"
      ],
      "metadata": {
        "id": "T0m_5IOGDoqX"
      },
      "execution_count": null,
      "outputs": []
    },
    {
      "cell_type": "code",
      "source": [
        "processed_dataset[\"input_values\"][1].shape\n"
      ],
      "metadata": {
        "id": "R3fhdYnADr-Z"
      },
      "execution_count": null,
      "outputs": []
    },
    {
      "cell_type": "markdown",
      "source": [
        "The lengths of the first two samples now match the maximum length you specified."
      ],
      "metadata": {
        "id": "4nlCDOJ7Dutr"
      }
    },
    {
      "cell_type": "markdown",
      "source": [
        "# Vision\n",
        "A feature extractor is also used to process images for vision tasks. Once again, the goal is to convert the raw image into a batch of tensors as input.\n",
        "\n",
        "Let's load the food101 dataset for this tutorial. Use 🤗 Datasets split parameter to only load a small sample from the training split since the dataset is quite large:"
      ],
      "metadata": {
        "id": "M8ocJiIBDvmK"
      }
    },
    {
      "cell_type": "code",
      "source": [
        "from datasets import load_dataset\n",
        "dataset = load_dataset(\"food101\", split=\"train[:100]\")"
      ],
      "metadata": {
        "id": "uvO09mXGD9WO"
      },
      "execution_count": null,
      "outputs": []
    },
    {
      "cell_type": "markdown",
      "source": [
        "Next, take a look at the image with 🤗 Datasets Image feature:"
      ],
      "metadata": {
        "id": "kt9mie2yGYz4"
      }
    },
    {
      "cell_type": "code",
      "source": [
        "dataset[0][\"image\"]"
      ],
      "metadata": {
        "id": "RshMmDjTGZ3G"
      },
      "execution_count": null,
      "outputs": []
    },
    {
      "cell_type": "markdown",
      "source": [
        "We can use convert to change the image. "
      ],
      "metadata": {
        "id": "us7lmRIOmA0E"
      }
    },
    {
      "cell_type": "code",
      "source": [
        "img1=dataset[0][\"image\"].convert(mode=\"L\")\n",
        "img1"
      ],
      "metadata": {
        "id": "Be7ohkAdRdkB"
      },
      "execution_count": null,
      "outputs": []
    },
    {
      "cell_type": "markdown",
      "source": [
        "Feature extractor\n",
        "Load the feature extractor with AutoFeatureExtractor.from_pretrained():"
      ],
      "metadata": {
        "id": "O6kuqEONGeP3"
      }
    },
    {
      "cell_type": "code",
      "source": [
        "from transformers import ViTImageProcessor\n",
        "\n",
        "feature_extractor = AutoFeatureExtractor.from_pretrained(\"google/vit-base-patch16-224\")"
      ],
      "metadata": {
        "id": "mUrdmufxGfG4"
      },
      "execution_count": null,
      "outputs": []
    },
    {
      "cell_type": "markdown",
      "source": [
        "Data augmentation\n",
        "For vision tasks, it is common to add some type of data augmentation to the images as a part of preprocessing. You can add augmentations with any library you'd like, but in this tutorial, you will use torchvision's transforms module.\n",
        "\n",
        "Normalize the image and use Compose to chain some transforms - RandomResizedCrop and ColorJitter - together:"
      ],
      "metadata": {
        "id": "VttxJjZEGjrk"
      }
    },
    {
      "cell_type": "code",
      "source": [
        "from torchvision.transforms import Compose, Normalize, RandomResizedCrop, ColorJitter, ToTensor\n",
        "\n",
        "normalize = Normalize(mean=feature_extractor.image_mean, std=feature_extractor.image_std)\n",
        "transformations_to_array = Compose([ToTensor(), normalize]\n",
        ")"
      ],
      "metadata": {
        "id": "gtZq3pJhGkRV"
      },
      "execution_count": null,
      "outputs": []
    },
    {
      "cell_type": "markdown",
      "source": [
        "The model accepts pixel_values as it's input. This value is generated by the feature extractor. Create a function that generates pixel_values from the transforms:"
      ],
      "metadata": {
        "id": "y1L33hWcGojm"
      }
    },
    {
      "cell_type": "code",
      "source": [
        "from PIL import Image\n"
      ],
      "metadata": {
        "id": "wUquF7fXKk4u"
      },
      "execution_count": null,
      "outputs": []
    },
    {
      "cell_type": "code",
      "source": [
        "def transforms(examples):\n",
        "    examples[\"pixel_values\"] = [transformations_to_array(image.convert(\"RGB\")) for image in examples[\"image\"]]\n",
        "    return examples"
      ],
      "metadata": {
        "id": "Jpg78umuGqgU"
      },
      "execution_count": null,
      "outputs": []
    },
    {
      "cell_type": "code",
      "source": [
        "tr=transformations_to_array(dataset[0][\"image\"]) "
      ],
      "metadata": {
        "id": "aCtqjaCwcNHL"
      },
      "execution_count": null,
      "outputs": []
    },
    {
      "cell_type": "markdown",
      "source": [
        "Then use 🤗 Datasets set_transform to apply the transforms on-the-fly:"
      ],
      "metadata": {
        "id": "qyxsnE1JGtNi"
      }
    },
    {
      "cell_type": "code",
      "source": [
        "tr"
      ],
      "metadata": {
        "id": "-7-iqjVUGt_k"
      },
      "execution_count": null,
      "outputs": []
    },
    {
      "cell_type": "code",
      "source": [
        "#dataset.set_transform(transformations_to_array)"
      ],
      "metadata": {
        "id": "RFRCTSNuVMG-"
      },
      "execution_count": null,
      "outputs": []
    },
    {
      "cell_type": "markdown",
      "source": [
        "Now when you access the image, you will notice the feature extractor has added the model input pixel_values:"
      ],
      "metadata": {
        "id": "A_aFpdA1Gxm0"
      }
    },
    {
      "cell_type": "markdown",
      "source": [
        "Here is what the image looks like after you preprocess it. Just as you'd expect from the applied transforms, the image has been randomly cropped and it's color properties are different."
      ],
      "metadata": {
        "id": "hiIXslQTKA4r"
      }
    },
    {
      "cell_type": "code",
      "source": [
        "import numpy as np\n",
        "import matplotlib.pyplot as plt\n",
        "\n",
        "plt.imshow(tr.permute(1, 2, 0))\n"
      ],
      "metadata": {
        "id": "6JnKgznmJ72j"
      },
      "execution_count": null,
      "outputs": []
    },
    {
      "cell_type": "code",
      "source": [
        "dataset[1][\"image\"]"
      ],
      "metadata": {
        "id": "eL534uQzpQtR"
      },
      "execution_count": null,
      "outputs": []
    },
    {
      "cell_type": "code",
      "source": [
        "transforms_to_resize = Compose(\n",
        "    [RandomResizedCrop(feature_extractor.size), ColorJitter(brightness=0.5, hue=0.5), ToTensor(), normalize])"
      ],
      "metadata": {
        "id": "tYEsVF-LngDJ"
      },
      "execution_count": null,
      "outputs": []
    },
    {
      "cell_type": "code",
      "source": [
        "tr_rs=transformations_to_array(dataset[1][\"image\"]) "
      ],
      "metadata": {
        "id": "IKIWB9uJnvIo"
      },
      "execution_count": null,
      "outputs": []
    },
    {
      "cell_type": "code",
      "source": [
        "\n",
        "plt.imshow(tr_rs.permute(1, 2, 0))\n"
      ],
      "metadata": {
        "id": "gwhCqlqen2Ny"
      },
      "execution_count": null,
      "outputs": []
    }
  ]
}