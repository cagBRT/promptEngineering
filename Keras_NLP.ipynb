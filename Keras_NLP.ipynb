{
  "nbformat": 4,
  "nbformat_minor": 0,
  "metadata": {
    "colab": {
      "private_outputs": true,
      "provenance": [],
      "gpuType": "T4",
      "authorship_tag": "ABX9TyPFVTWHG71IJ1KYPrO1aEwy",
      "include_colab_link": true
    },
    "kernelspec": {
      "name": "python3",
      "display_name": "Python 3"
    },
    "language_info": {
      "name": "python"
    },
    "accelerator": "GPU"
  },
  "cells": [
    {
      "cell_type": "markdown",
      "metadata": {
        "id": "view-in-github",
        "colab_type": "text"
      },
      "source": [
        "<a href=\"https://colab.research.google.com/github/cagBRT/promptEngineering/blob/main/Keras_NLP.ipynb\" target=\"_parent\"><img src=\"https://colab.research.google.com/assets/colab-badge.svg\" alt=\"Open In Colab\"/></a>"
      ]
    },
    {
      "cell_type": "code",
      "source": [
        "!pip install keras-nlp"
      ],
      "metadata": {
        "id": "qkDTEspclcLQ"
      },
      "execution_count": null,
      "outputs": []
    },
    {
      "cell_type": "code",
      "source": [
        "import keras_nlp\n",
        "import tensorflow_datasets as tfds"
      ],
      "metadata": {
        "id": "SvjF5VlvmGF1"
      },
      "execution_count": null,
      "outputs": []
    },
    {
      "cell_type": "code",
      "source": [
        "imdb_train, imdb_test = tfds.load(\n",
        "  \"imdb_reviews\",\n",
        "  split=[\"train\", \"test\"],\n",
        "  as_supervised=True,\n",
        "  batch_size=16,\n",
        ")"
      ],
      "metadata": {
        "id": "A0rvYUpQmJrh"
      },
      "execution_count": null,
      "outputs": []
    },
    {
      "cell_type": "code",
      "source": [
        "imdb_train"
      ],
      "metadata": {
        "id": "FoxkoMtDm-3U"
      },
      "execution_count": null,
      "outputs": []
    },
    {
      "cell_type": "code",
      "source": [
        "# Load a BERT model.\n",
        "classifier = keras_nlp.models.BertClassifier.from_preset(\"bert_base_en_uncased\",num_classes=2)"
      ],
      "metadata": {
        "id": "863hwBaHmPMd"
      },
      "execution_count": null,
      "outputs": []
    },
    {
      "cell_type": "code",
      "source": [
        "# Fine-tune on IMDb movie reviews.\n",
        "classifier.fit(imdb_train, validation_data=imdb_test)"
      ],
      "metadata": {
        "id": "dcknAuBllUAS"
      },
      "execution_count": null,
      "outputs": []
    },
    {
      "cell_type": "code",
      "source": [
        "# Predict two new examples.\n",
        "classifier.predict([\"What an amazing movie!\", \"A total waste of my time.\"])"
      ],
      "metadata": {
        "id": "MhQJ4oInmSYo"
      },
      "execution_count": null,
      "outputs": []
    }
  ]
}