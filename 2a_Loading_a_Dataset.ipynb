{
  "nbformat": 4,
  "nbformat_minor": 0,
  "metadata": {
    "colab": {
      "private_outputs": true,
      "provenance": [],
      "authorship_tag": "ABX9TyOcJgtEzALkPEtHsGJc4X/5",
      "include_colab_link": true
    },
    "kernelspec": {
      "name": "python3",
      "display_name": "Python 3"
    },
    "language_info": {
      "name": "python"
    }
  },
  "cells": [
    {
      "cell_type": "markdown",
      "metadata": {
        "id": "view-in-github",
        "colab_type": "text"
      },
      "source": [
        "<a href=\"https://colab.research.google.com/github/cagBRT/promptEngineering/blob/main/2a_Loading_a_Dataset.ipynb\" target=\"_parent\"><img src=\"https://colab.research.google.com/assets/colab-badge.svg\" alt=\"Open In Colab\"/></a>"
      ]
    },
    {
      "cell_type": "markdown",
      "source": [
        "This notebook demonstrates how to load a HuggingFace Dataset"
      ],
      "metadata": {
        "id": "N5BLkDgma-id"
      }
    },
    {
      "cell_type": "code",
      "source": [
        "# Transformers installation\n",
        "! pip install transformers datasets\n",
        "# To install from source instead of the last release, comment the command above and uncomment the following one.\n",
        "! pip install git+https://github.com/huggingface/transformers.git   "
      ],
      "metadata": {
        "id": "kLlvSeUabLLq"
      },
      "execution_count": null,
      "outputs": []
    },
    {
      "cell_type": "code",
      "source": [
        "from datasets import load_dataset_builder"
      ],
      "metadata": {
        "id": "LTIstQMdbGFk"
      },
      "execution_count": null,
      "outputs": []
    },
    {
      "cell_type": "code",
      "execution_count": null,
      "metadata": {
        "id": "QDbBhPUOa1pB"
      },
      "outputs": [],
      "source": [
        "ds_builder = load_dataset_builder(\"rotten_tomatoes\")\n",
        "\n",
        "# Inspect dataset description\n",
        "ds_builder.info.description\n",
        "\n"
      ]
    },
    {
      "cell_type": "code",
      "source": [
        "# Inspect dataset features\n",
        "ds_builder.info.features"
      ],
      "metadata": {
        "id": "MYHR7acibnAm"
      },
      "execution_count": null,
      "outputs": []
    },
    {
      "cell_type": "code",
      "source": [
        "from datasets import load_dataset"
      ],
      "metadata": {
        "id": "NbiRh07GbzP8"
      },
      "execution_count": null,
      "outputs": []
    },
    {
      "cell_type": "markdown",
      "source": [
        "A split is a specific subset of a dataset like train and test."
      ],
      "metadata": {
        "id": "1TIeV8A3b61_"
      }
    },
    {
      "cell_type": "code",
      "source": [
        "dataset = load_dataset(\"rotten_tomatoes\", split=\"train\")"
      ],
      "metadata": {
        "id": "g-YNVwhwbwRE"
      },
      "execution_count": null,
      "outputs": []
    },
    {
      "cell_type": "markdown",
      "source": [
        "The dataset contains 8530 rows of reviews"
      ],
      "metadata": {
        "id": "VEixmTKXcR-X"
      }
    },
    {
      "cell_type": "code",
      "source": [
        "dataset"
      ],
      "metadata": {
        "id": "4Wc_NHuvcCiL"
      },
      "execution_count": null,
      "outputs": []
    },
    {
      "cell_type": "markdown",
      "source": [
        "You can also load the dataset without specifing a split"
      ],
      "metadata": {
        "id": "RzUdYVl3cXAR"
      }
    },
    {
      "cell_type": "code",
      "source": [
        "dataset_full = load_dataset(\"rotten_tomatoes\")"
      ],
      "metadata": {
        "id": "sNzg6zevcI-S"
      },
      "execution_count": null,
      "outputs": []
    },
    {
      "cell_type": "code",
      "source": [
        "dataset_full"
      ],
      "metadata": {
        "id": "MkxrID5EcL_f"
      },
      "execution_count": null,
      "outputs": []
    },
    {
      "cell_type": "markdown",
      "source": [
        "Operators for the datasets"
      ],
      "metadata": {
        "id": "HLPAd8sHct8X"
      }
    },
    {
      "cell_type": "code",
      "source": [
        "#row 0 of the dataset\n",
        "dataset[0]"
      ],
      "metadata": {
        "id": "N30o3ZNxctZv"
      },
      "execution_count": null,
      "outputs": []
    },
    {
      "cell_type": "code",
      "source": [
        "#last row of the dataset\n",
        "dataset[-1]"
      ],
      "metadata": {
        "id": "PRi-PzRtc23l"
      },
      "execution_count": null,
      "outputs": []
    },
    {
      "cell_type": "code",
      "source": [
        "#all the text values of the dataset\n",
        "dataset[\"text\"]"
      ],
      "metadata": {
        "id": "mm8GA_1ec9vc"
      },
      "execution_count": null,
      "outputs": []
    },
    {
      "cell_type": "code",
      "source": [
        "#text of a specific row\n",
        "dataset[0][\"text\"]"
      ],
      "metadata": {
        "id": "pJzbnZ7JdIop"
      },
      "execution_count": null,
      "outputs": []
    },
    {
      "cell_type": "code",
      "source": [
        "from datasets import list_datasets, load_dataset\n",
        "list_datasets()"
      ],
      "metadata": {
        "id": "li1MoR9dfCEh"
      },
      "execution_count": null,
      "outputs": []
    },
    {
      "cell_type": "code",
      "source": [
        "cornell=load_dataset('cornell_movie_dialog')"
      ],
      "metadata": {
        "id": "H7Aw67CCf0f8"
      },
      "execution_count": null,
      "outputs": []
    },
    {
      "cell_type": "markdown",
      "source": [
        "If your dataset is bigger than your disk or if you don't want to wait to download the data, you can use streaming:"
      ],
      "metadata": {
        "id": "OZztKKCVgfXW"
      }
    },
    {
      "cell_type": "code",
      "source": [
        "# If you want to use the dataset immediately and efficiently stream the data as you iterate over the dataset\n",
        "image_dataset = load_dataset('cifar100', streaming=True)\n",
        "for example in image_dataset[\"train\"]:\n",
        "    break"
      ],
      "metadata": {
        "id": "KSb2EMLMgdAh"
      },
      "execution_count": null,
      "outputs": []
    }
  ]
}