{
  "nbformat": 4,
  "nbformat_minor": 0,
  "metadata": {
    "colab": {
      "private_outputs": true,
      "provenance": [],
      "authorship_tag": "ABX9TyPufJpN3XZqGVUcRiBtANt2",
      "include_colab_link": true
    },
    "kernelspec": {
      "name": "python3",
      "display_name": "Python 3"
    },
    "language_info": {
      "name": "python"
    }
  },
  "cells": [
    {
      "cell_type": "markdown",
      "metadata": {
        "id": "view-in-github",
        "colab_type": "text"
      },
      "source": [
        "<a href=\"https://colab.research.google.com/github/cagBRT/promptEngineering/blob/main/Clustering.ipynb\" target=\"_parent\"><img src=\"https://colab.research.google.com/assets/colab-badge.svg\" alt=\"Open In Colab\"/></a>"
      ]
    },
    {
      "cell_type": "markdown",
      "source": [
        "upload the file: fine_food_reviews_with_embeddings_1k.csv\n",
        "\n"
      ],
      "metadata": {
        "id": "8SCR5VAgezmM"
      }
    },
    {
      "cell_type": "code",
      "source": [
        "!pip install --upgrade openai"
      ],
      "metadata": {
        "id": "g8MdRRj3fNvi"
      },
      "execution_count": null,
      "outputs": []
    },
    {
      "cell_type": "markdown",
      "source": [
        "https://platform.openai.com/account/api-keys"
      ],
      "metadata": {
        "id": "kIcy8CUMfdE5"
      }
    },
    {
      "cell_type": "code",
      "source": [
        "import openai\n",
        "openai.api_key = \"key goes here\""
      ],
      "metadata": {
        "id": "_WMgMGDXfQyu"
      },
      "execution_count": null,
      "outputs": []
    },
    {
      "cell_type": "code",
      "execution_count": null,
      "metadata": {
        "id": "CgTcGZ7peOZs"
      },
      "outputs": [],
      "source": [
        "# imports\n",
        "import numpy as np\n",
        "import pandas as pd\n",
        "\n",
        "# load data\n",
        "datafile_path = \"/fine_food_reviews_with_embeddings_1k.csv\"\n",
        "\n",
        "df = pd.read_csv(datafile_path)\n",
        "df[\"embedding\"] = df.embedding.apply(eval).apply(np.array)  # convert string to numpy array\n",
        "matrix = np.vstack(df.embedding.values)\n",
        "matrix.shape"
      ]
    },
    {
      "cell_type": "code",
      "source": [
        "from sklearn.cluster import KMeans\n",
        "\n",
        "n_clusters = 4\n",
        "\n",
        "kmeans = KMeans(n_clusters=n_clusters, init=\"k-means++\", random_state=42)\n",
        "kmeans.fit(matrix)\n",
        "labels = kmeans.labels_\n",
        "df[\"Cluster\"] = labels\n",
        "\n",
        "df.groupby(\"Cluster\").Score.mean().sort_values()"
      ],
      "metadata": {
        "id": "KyPDnqqeekpl"
      },
      "execution_count": null,
      "outputs": []
    },
    {
      "cell_type": "code",
      "source": [
        "from sklearn.manifold import TSNE\n",
        "import matplotlib\n",
        "import matplotlib.pyplot as plt\n",
        "\n",
        "tsne = TSNE(n_components=2, perplexity=15, random_state=42, init=\"random\", learning_rate=200)\n",
        "vis_dims2 = tsne.fit_transform(matrix)\n",
        "\n",
        "x = [x for x, y in vis_dims2]\n",
        "y = [y for x, y in vis_dims2]\n",
        "\n",
        "for category, color in enumerate([\"purple\", \"green\", \"red\", \"blue\"]):\n",
        "    xs = np.array(x)[df.Cluster == category]\n",
        "    ys = np.array(y)[df.Cluster == category]\n",
        "    plt.scatter(xs, ys, color=color, alpha=0.3)\n",
        "\n",
        "    avg_x = xs.mean()\n",
        "    avg_y = ys.mean()\n",
        "\n",
        "    plt.scatter(avg_x, avg_y, marker=\"x\", color=color, s=100)\n",
        "plt.title(\"Clusters identified visualized in language 2d using t-SNE\")"
      ],
      "metadata": {
        "id": "q7FwOenCenuZ"
      },
      "execution_count": null,
      "outputs": []
    },
    {
      "cell_type": "code",
      "source": [
        "import openai\n",
        "\n",
        "# Reading a review which belong to each group.\n",
        "rev_per_cluster = 5\n",
        "\n",
        "for i in range(n_clusters):\n",
        "    print(f\"Cluster {i} Theme:\", end=\" \")\n",
        "\n",
        "    reviews = \"\\n\".join(\n",
        "        df[df.Cluster == i]\n",
        "        .combined.str.replace(\"Title: \", \"\")\n",
        "        .str.replace(\"\\n\\nContent: \", \":  \")\n",
        "        .sample(rev_per_cluster, random_state=42)\n",
        "        .values\n",
        "    )\n",
        "    response = openai.Completion.create(\n",
        "        engine=\"text-davinci-003\",\n",
        "        prompt=f'What do the following customer reviews have in common?\\n\\nCustomer reviews:\\n\"\"\"\\n{reviews}\\n\"\"\"\\n\\nTheme:',\n",
        "        temperature=0,\n",
        "        max_tokens=64,\n",
        "        top_p=1,\n",
        "        frequency_penalty=0,\n",
        "        presence_penalty=0,\n",
        "    )\n",
        "    print(response[\"choices\"][0][\"text\"].replace(\"\\n\", \"\"))\n",
        "\n",
        "    sample_cluster_rows = df[df.Cluster == i].sample(rev_per_cluster, random_state=42)\n",
        "    for j in range(rev_per_cluster):\n",
        "        print(sample_cluster_rows.Score.values[j], end=\", \")\n",
        "        print(sample_cluster_rows.Summary.values[j], end=\":   \")\n",
        "        print(sample_cluster_rows.Text.str[:70].values[j])\n",
        "\n",
        "    print(\"-\" * 100)"
      ],
      "metadata": {
        "id": "Wgof_1hzfEos"
      },
      "execution_count": null,
      "outputs": []
    }
  ]
}